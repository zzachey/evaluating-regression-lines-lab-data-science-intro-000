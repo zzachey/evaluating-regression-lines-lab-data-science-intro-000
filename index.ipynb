{
 "cells": [
  {
   "cell_type": "markdown",
   "metadata": {},
   "source": [
    "# Evaluating Regression Lines Lab"
   ]
  },
  {
   "cell_type": "markdown",
   "metadata": {},
   "source": [
    "### Introduction"
   ]
  },
  {
   "cell_type": "markdown",
   "metadata": {},
   "source": [
    "In the previous lesson, we learned to evaluate how well a regression line estimated our actual data.  In this lab, we will turn these formulas into code.  In doing so, we'll build lots of useful functions for both calculating and displaying our errors for a given regression line and dataset."
   ]
  },
  {
   "cell_type": "markdown",
   "metadata": {},
   "source": [
    "> In moving through this lab, we'll access to the functions that we previously built out to plot our data, available in the [graph](https://github.com/learn-co-curriculum/evaluating-regression-lines-lab/blob/master/graph.py) here."
   ]
  },
  {
   "cell_type": "markdown",
   "metadata": {},
   "source": [
    "### Determining Quality"
   ]
  },
  {
   "cell_type": "markdown",
   "metadata": {},
   "source": [
    "In the file, `movie_data.py` you will find movie data written as a python list of dictionaries, with each dictionary representing a movie.  The movies are derived from the first 30 entries from the dataset containing 538 movies [provided here](https://raw.githubusercontent.com/fivethirtyeight/data/master/bechdel/movies.csv)."
   ]
  },
  {
   "cell_type": "code",
   "execution_count": 1,
   "metadata": {
    "scrolled": true
   },
   "outputs": [
    {
     "data": {
      "text/plain": [
       "30"
      ]
     },
     "execution_count": 1,
     "metadata": {},
     "output_type": "execute_result"
    }
   ],
   "source": [
    "from movie_data import movies \n",
    "len(movies)"
   ]
  },
  {
   "cell_type": "markdown",
   "metadata": {},
   "source": [
    "> Press shift + enter"
   ]
  },
  {
   "cell_type": "code",
   "execution_count": 2,
   "metadata": {
    "scrolled": true
   },
   "outputs": [
    {
     "data": {
      "text/plain": [
       "{'budget': 13000000, 'domgross': 25682380.0, 'title': '21 &amp; Over'}"
      ]
     },
     "execution_count": 2,
     "metadata": {},
     "output_type": "execute_result"
    }
   ],
   "source": [
    "movies[0]"
   ]
  },
  {
   "cell_type": "code",
   "execution_count": 3,
   "metadata": {},
   "outputs": [
    {
     "data": {
      "text/plain": [
       "13.0"
      ]
     },
     "execution_count": 3,
     "metadata": {},
     "output_type": "execute_result"
    }
   ],
   "source": [
    "movies[0]['budget']/1000000"
   ]
  },
  {
   "cell_type": "markdown",
   "metadata": {},
   "source": [
    "The numbers are in millions, so we will simplify things by dividing everything by a million"
   ]
  },
  {
   "cell_type": "code",
   "execution_count": 4,
   "metadata": {},
   "outputs": [
    {
     "data": {
      "text/plain": [
       "{'title': '21 &amp; Over', 'budget': 13.0, 'domgross': 26.0}"
      ]
     },
     "execution_count": 4,
     "metadata": {},
     "output_type": "execute_result"
    }
   ],
   "source": [
    "scaled_movies = list(map(lambda movie: {'title': movie['title'], 'budget': round(movie['budget']/1000000, 0), 'domgross': round(movie['domgross']/1000000, 0)}, movies))\n",
    "scaled_movies[0]"
   ]
  },
  {
   "cell_type": "markdown",
   "metadata": {
    "collapsed": true
   },
   "source": [
    "Note that, like in previous lessons, the budget is our explanatory value and the revenue is our dependent variable.  Here revenue is represented as the key `domgross`.  \n",
    "\n",
    "#### Plotting our data\n",
    "\n",
    "Let's write the code to plot this data set.\n",
    "\n",
    "As a first task, convert the budget values of our `scaled_movies` to `x_values`, and convert the domgross values of the `scaled_movies` to `y_values`."
   ]
  },
  {
   "cell_type": "code",
   "execution_count": 7,
   "metadata": {},
   "outputs": [],
   "source": [
    "x_values = list(map(lambda movie: movie['budget'],scaled_movies))\n",
    "y_values = list(map(lambda movie: movie['domgross'],scaled_movies))"
   ]
  },
  {
   "cell_type": "code",
   "execution_count": 8,
   "metadata": {},
   "outputs": [
    {
     "data": {
      "text/plain": [
       "13.0"
      ]
     },
     "execution_count": 8,
     "metadata": {},
     "output_type": "execute_result"
    }
   ],
   "source": [
    "x_values and x_values[0] # 13.0"
   ]
  },
  {
   "cell_type": "code",
   "execution_count": 9,
   "metadata": {},
   "outputs": [
    {
     "data": {
      "text/plain": [
       "26.0"
      ]
     },
     "execution_count": 9,
     "metadata": {},
     "output_type": "execute_result"
    }
   ],
   "source": [
    "y_values and y_values[0] # 26.0"
   ]
  },
  {
   "cell_type": "markdown",
   "metadata": {},
   "source": [
    "Assign a variable called `titles` equal to the titles of the movies."
   ]
  },
  {
   "cell_type": "code",
   "execution_count": 14,
   "metadata": {},
   "outputs": [],
   "source": [
    "titles = list(map(lambda movie : movie['title'], movies))"
   ]
  },
  {
   "cell_type": "code",
   "execution_count": 15,
   "metadata": {},
   "outputs": [
    {
     "data": {
      "text/plain": [
       "'21 &amp; Over'"
      ]
     },
     "execution_count": 15,
     "metadata": {},
     "output_type": "execute_result"
    }
   ],
   "source": [
    "titles and titles[0]"
   ]
  },
  {
   "cell_type": "markdown",
   "metadata": {},
   "source": [
    "Great! Now we have the data necessary to make a trace of our data."
   ]
  },
  {
   "cell_type": "code",
   "execution_count": 16,
   "metadata": {},
   "outputs": [
    {
     "data": {
      "text/html": [
       "<script>requirejs.config({paths: { 'plotly': ['https://cdn.plot.ly/plotly-latest.min']},});if(!window.Plotly) {{require(['plotly'],function(plotly) {window.Plotly=plotly;});}}</script>"
      ],
      "text/vnd.plotly.v1+html": [
       "<script>requirejs.config({paths: { 'plotly': ['https://cdn.plot.ly/plotly-latest.min']},});if(!window.Plotly) {{require(['plotly'],function(plotly) {window.Plotly=plotly;});}}</script>"
      ]
     },
     "metadata": {},
     "output_type": "display_data"
    },
    {
     "data": {
      "text/html": [
       "<script>requirejs.config({paths: { 'plotly': ['https://cdn.plot.ly/plotly-latest.min']},});if(!window.Plotly) {{require(['plotly'],function(plotly) {window.Plotly=plotly;});}}</script>"
      ],
      "text/vnd.plotly.v1+html": [
       "<script>requirejs.config({paths: { 'plotly': ['https://cdn.plot.ly/plotly-latest.min']},});if(!window.Plotly) {{require(['plotly'],function(plotly) {window.Plotly=plotly;});}}</script>"
      ]
     },
     "metadata": {},
     "output_type": "display_data"
    },
    {
     "data": {
      "application/vnd.plotly.v1+json": {
       "data": [
        {
         "mode": "markers",
         "name": "movie data",
         "text": [
          "21 &amp; Over",
          "Dredd 3D",
          "12 Years a Slave",
          "2 Guns",
          "42",
          "47 Ronin",
          "A Good Day to Die Hard",
          "About Time",
          "After Earth",
          "August: Osage County",
          "Beautiful Creatures",
          "Blue Jasmine",
          "Captain Phillips",
          "Carrie",
          "Cloudy with a Chance of Meatballs 2",
          "Despicable Me 2",
          "Don Jon",
          "Elysium",
          "Ender&#39;s Game",
          "Epic",
          "Escape Plan",
          "Evil Dead",
          "Fast and Furious 6",
          "Frozen",
          "G.I. Joe: Retaliation",
          "Gangster Squad",
          "Grown Ups",
          "Her",
          "Identity Thief",
          "Iron Man 3"
         ],
         "type": "scatter",
         "uid": "089f5b8e-7112-11e9-8446-99e202bd50b1",
         "x": [
          13,
          46,
          20,
          61,
          40,
          225,
          92,
          12,
          130,
          25,
          50,
          18,
          55,
          30,
          78,
          76,
          6,
          120,
          110,
          100,
          70,
          17,
          160,
          150,
          140,
          60,
          80,
          23,
          35,
          200
         ],
         "y": [
          26,
          13,
          53,
          76,
          95,
          38,
          67,
          15,
          61,
          37,
          19,
          33,
          107,
          35,
          120,
          368,
          24,
          93,
          62,
          108,
          25,
          54,
          239,
          393,
          123,
          46,
          134,
          25,
          135,
          409
         ]
        }
       ],
       "layout": {}
      },
      "text/html": [
       "<div id=\"dbefe80e-4936-4de7-8b2f-e406375d1e6a\" style=\"height: 525px; width: 100%;\" class=\"plotly-graph-div\"></div><script type=\"text/javascript\">require([\"plotly\"], function(Plotly) { window.PLOTLYENV=window.PLOTLYENV || {};window.PLOTLYENV.BASE_URL=\"https://plot.ly\";Plotly.newPlot(\"dbefe80e-4936-4de7-8b2f-e406375d1e6a\", [{\"mode\": \"markers\", \"name\": \"movie data\", \"text\": [\"21 &amp; Over\", \"Dredd 3D\", \"12 Years a Slave\", \"2 Guns\", \"42\", \"47 Ronin\", \"A Good Day to Die Hard\", \"About Time\", \"After Earth\", \"August: Osage County\", \"Beautiful Creatures\", \"Blue Jasmine\", \"Captain Phillips\", \"Carrie\", \"Cloudy with a Chance of Meatballs 2\", \"Despicable Me 2\", \"Don Jon\", \"Elysium\", \"Ender&#39;s Game\", \"Epic\", \"Escape Plan\", \"Evil Dead\", \"Fast and Furious 6\", \"Frozen\", \"G.I. Joe: Retaliation\", \"Gangster Squad\", \"Grown Ups\", \"Her\", \"Identity Thief\", \"Iron Man 3\"], \"x\": [13.0, 46.0, 20.0, 61.0, 40.0, 225.0, 92.0, 12.0, 130.0, 25.0, 50.0, 18.0, 55.0, 30.0, 78.0, 76.0, 6.0, 120.0, 110.0, 100.0, 70.0, 17.0, 160.0, 150.0, 140.0, 60.0, 80.0, 23.0, 35.0, 200.0], \"y\": [26.0, 13.0, 53.0, 76.0, 95.0, 38.0, 67.0, 15.0, 61.0, 37.0, 19.0, 33.0, 107.0, 35.0, 120.0, 368.0, 24.0, 93.0, 62.0, 108.0, 25.0, 54.0, 239.0, 393.0, 123.0, 46.0, 134.0, 25.0, 135.0, 409.0], \"type\": \"scatter\", \"uid\": \"08c14ae6-7112-11e9-8446-99e202bd50b1\"}], {}, {\"showLink\": true, \"linkText\": \"Export to plot.ly\"})});</script>"
      ],
      "text/vnd.plotly.v1+html": [
       "<div id=\"dbefe80e-4936-4de7-8b2f-e406375d1e6a\" style=\"height: 525px; width: 100%;\" class=\"plotly-graph-div\"></div><script type=\"text/javascript\">require([\"plotly\"], function(Plotly) { window.PLOTLYENV=window.PLOTLYENV || {};window.PLOTLYENV.BASE_URL=\"https://plot.ly\";Plotly.newPlot(\"dbefe80e-4936-4de7-8b2f-e406375d1e6a\", [{\"mode\": \"markers\", \"name\": \"movie data\", \"text\": [\"21 &amp; Over\", \"Dredd 3D\", \"12 Years a Slave\", \"2 Guns\", \"42\", \"47 Ronin\", \"A Good Day to Die Hard\", \"About Time\", \"After Earth\", \"August: Osage County\", \"Beautiful Creatures\", \"Blue Jasmine\", \"Captain Phillips\", \"Carrie\", \"Cloudy with a Chance of Meatballs 2\", \"Despicable Me 2\", \"Don Jon\", \"Elysium\", \"Ender&#39;s Game\", \"Epic\", \"Escape Plan\", \"Evil Dead\", \"Fast and Furious 6\", \"Frozen\", \"G.I. Joe: Retaliation\", \"Gangster Squad\", \"Grown Ups\", \"Her\", \"Identity Thief\", \"Iron Man 3\"], \"x\": [13.0, 46.0, 20.0, 61.0, 40.0, 225.0, 92.0, 12.0, 130.0, 25.0, 50.0, 18.0, 55.0, 30.0, 78.0, 76.0, 6.0, 120.0, 110.0, 100.0, 70.0, 17.0, 160.0, 150.0, 140.0, 60.0, 80.0, 23.0, 35.0, 200.0], \"y\": [26.0, 13.0, 53.0, 76.0, 95.0, 38.0, 67.0, 15.0, 61.0, 37.0, 19.0, 33.0, 107.0, 35.0, 120.0, 368.0, 24.0, 93.0, 62.0, 108.0, 25.0, 54.0, 239.0, 393.0, 123.0, 46.0, 134.0, 25.0, 135.0, 409.0], \"type\": \"scatter\", \"uid\": \"08c14ae6-7112-11e9-8446-99e202bd50b1\"}], {}, {\"showLink\": true, \"linkText\": \"Export to plot.ly\"})});</script>"
      ]
     },
     "metadata": {},
     "output_type": "display_data"
    }
   ],
   "source": [
    "from plotly.offline import iplot, init_notebook_mode\n",
    "init_notebook_mode(connected=True)\n",
    "from graph import trace_values, plot\n",
    "\n",
    "movies_trace = trace_values(x_values, y_values, text=titles, name='movie data')\n",
    "\n",
    "plot([movies_trace])"
   ]
  },
  {
   "cell_type": "markdown",
   "metadata": {},
   "source": [
    "#### Plotting a regression line"
   ]
  },
  {
   "cell_type": "markdown",
   "metadata": {},
   "source": [
    "Now let's add a regression line to make a prediction of output (revenue) based on an input (the budget).  We'll use the following regression formula:"
   ]
  },
  {
   "cell_type": "markdown",
   "metadata": {},
   "source": [
    "* $\\hat{y} = m x + b$, with $m = 1.7$, and $b = 10$. \n",
    "\n",
    "\n",
    "* $\\hat{y} = 1.7x + 10$\n",
    "\n",
    "Write a function called `regression_formula` that calculates our $\\hat{y}$ for any provided value of $x$. "
   ]
  },
  {
   "cell_type": "code",
   "execution_count": 20,
   "metadata": {},
   "outputs": [],
   "source": [
    "def regression_formula(x):\n",
    "    return 1.7*x + 10"
   ]
  },
  {
   "cell_type": "markdown",
   "metadata": {},
   "source": [
    "Check to see that the regression formula generates the correct outputs."
   ]
  },
  {
   "cell_type": "code",
   "execution_count": 22,
   "metadata": {},
   "outputs": [
    {
     "data": {
      "text/plain": [
       "180.0"
      ]
     },
     "execution_count": 22,
     "metadata": {},
     "output_type": "execute_result"
    }
   ],
   "source": [
    "regression_formula(100) # 180.0\n",
    "#regression_formula(250) # 435.0"
   ]
  },
  {
   "cell_type": "markdown",
   "metadata": {},
   "source": [
    "Let's plot the data as well as the regression line to get a sense of what we are looking at."
   ]
  },
  {
   "cell_type": "code",
   "execution_count": 23,
   "metadata": {},
   "outputs": [
    {
     "data": {
      "text/html": [
       "<script>requirejs.config({paths: { 'plotly': ['https://cdn.plot.ly/plotly-latest.min']},});if(!window.Plotly) {{require(['plotly'],function(plotly) {window.Plotly=plotly;});}}</script>"
      ],
      "text/vnd.plotly.v1+html": [
       "<script>requirejs.config({paths: { 'plotly': ['https://cdn.plot.ly/plotly-latest.min']},});if(!window.Plotly) {{require(['plotly'],function(plotly) {window.Plotly=plotly;});}}</script>"
      ]
     },
     "metadata": {},
     "output_type": "display_data"
    },
    {
     "data": {
      "application/vnd.plotly.v1+json": {
       "data": [
        {
         "mode": "markers",
         "name": "movie data",
         "text": [
          "21 &amp; Over",
          "Dredd 3D",
          "12 Years a Slave",
          "2 Guns",
          "42",
          "47 Ronin",
          "A Good Day to Die Hard",
          "About Time",
          "After Earth",
          "August: Osage County",
          "Beautiful Creatures",
          "Blue Jasmine",
          "Captain Phillips",
          "Carrie",
          "Cloudy with a Chance of Meatballs 2",
          "Despicable Me 2",
          "Don Jon",
          "Elysium",
          "Ender&#39;s Game",
          "Epic",
          "Escape Plan",
          "Evil Dead",
          "Fast and Furious 6",
          "Frozen",
          "G.I. Joe: Retaliation",
          "Gangster Squad",
          "Grown Ups",
          "Her",
          "Identity Thief",
          "Iron Man 3"
         ],
         "type": "scatter",
         "uid": "56a7a6ba-7112-11e9-8446-99e202bd50b1",
         "x": [
          13,
          46,
          20,
          61,
          40,
          225,
          92,
          12,
          130,
          25,
          50,
          18,
          55,
          30,
          78,
          76,
          6,
          120,
          110,
          100,
          70,
          17,
          160,
          150,
          140,
          60,
          80,
          23,
          35,
          200
         ],
         "y": [
          26,
          13,
          53,
          76,
          95,
          38,
          67,
          15,
          61,
          37,
          19,
          33,
          107,
          35,
          120,
          368,
          24,
          93,
          62,
          108,
          25,
          54,
          239,
          393,
          123,
          46,
          134,
          25,
          135,
          409
         ]
        },
        {
         "mode": "lines",
         "name": "estimated revenue",
         "type": "scatter",
         "uid": "56a7aaca-7112-11e9-8446-99e202bd50b1",
         "x": [
          13,
          46,
          20,
          61,
          40,
          225,
          92,
          12,
          130,
          25,
          50,
          18,
          55,
          30,
          78,
          76,
          6,
          120,
          110,
          100,
          70,
          17,
          160,
          150,
          140,
          60,
          80,
          23,
          35,
          200
         ],
         "y": [
          32.099999999999994,
          88.2,
          44,
          113.7,
          78,
          392.5,
          166.4,
          30.4,
          231,
          52.5,
          95,
          40.599999999999994,
          103.5,
          61,
          142.6,
          139.2,
          20.2,
          214,
          197,
          180,
          129,
          38.9,
          282,
          265,
          248,
          112,
          146,
          49.1,
          69.5,
          350
         ]
        }
       ],
       "layout": {}
      },
      "text/html": [
       "<div id=\"4220bbfc-b526-4a5e-a96f-1cf30362973e\" style=\"height: 525px; width: 100%;\" class=\"plotly-graph-div\"></div><script type=\"text/javascript\">require([\"plotly\"], function(Plotly) { window.PLOTLYENV=window.PLOTLYENV || {};window.PLOTLYENV.BASE_URL=\"https://plot.ly\";Plotly.newPlot(\"4220bbfc-b526-4a5e-a96f-1cf30362973e\", [{\"mode\": \"markers\", \"name\": \"movie data\", \"text\": [\"21 &amp; Over\", \"Dredd 3D\", \"12 Years a Slave\", \"2 Guns\", \"42\", \"47 Ronin\", \"A Good Day to Die Hard\", \"About Time\", \"After Earth\", \"August: Osage County\", \"Beautiful Creatures\", \"Blue Jasmine\", \"Captain Phillips\", \"Carrie\", \"Cloudy with a Chance of Meatballs 2\", \"Despicable Me 2\", \"Don Jon\", \"Elysium\", \"Ender&#39;s Game\", \"Epic\", \"Escape Plan\", \"Evil Dead\", \"Fast and Furious 6\", \"Frozen\", \"G.I. Joe: Retaliation\", \"Gangster Squad\", \"Grown Ups\", \"Her\", \"Identity Thief\", \"Iron Man 3\"], \"x\": [13.0, 46.0, 20.0, 61.0, 40.0, 225.0, 92.0, 12.0, 130.0, 25.0, 50.0, 18.0, 55.0, 30.0, 78.0, 76.0, 6.0, 120.0, 110.0, 100.0, 70.0, 17.0, 160.0, 150.0, 140.0, 60.0, 80.0, 23.0, 35.0, 200.0], \"y\": [26.0, 13.0, 53.0, 76.0, 95.0, 38.0, 67.0, 15.0, 61.0, 37.0, 19.0, 33.0, 107.0, 35.0, 120.0, 368.0, 24.0, 93.0, 62.0, 108.0, 25.0, 54.0, 239.0, 393.0, 123.0, 46.0, 134.0, 25.0, 135.0, 409.0], \"type\": \"scatter\", \"uid\": \"56ac5480-7112-11e9-8446-99e202bd50b1\"}, {\"mode\": \"lines\", \"name\": \"estimated revenue\", \"x\": [13.0, 46.0, 20.0, 61.0, 40.0, 225.0, 92.0, 12.0, 130.0, 25.0, 50.0, 18.0, 55.0, 30.0, 78.0, 76.0, 6.0, 120.0, 110.0, 100.0, 70.0, 17.0, 160.0, 150.0, 140.0, 60.0, 80.0, 23.0, 35.0, 200.0], \"y\": [32.099999999999994, 88.2, 44.0, 113.7, 78.0, 392.5, 166.4, 30.4, 231.0, 52.5, 95.0, 40.599999999999994, 103.5, 61.0, 142.6, 139.2, 20.2, 214.0, 197.0, 180.0, 129.0, 38.9, 282.0, 265.0, 248.0, 112.0, 146.0, 49.1, 69.5, 350.0], \"type\": \"scatter\", \"uid\": \"56ac5624-7112-11e9-8446-99e202bd50b1\"}], {}, {\"showLink\": true, \"linkText\": \"Export to plot.ly\"})});</script>"
      ],
      "text/vnd.plotly.v1+html": [
       "<div id=\"4220bbfc-b526-4a5e-a96f-1cf30362973e\" style=\"height: 525px; width: 100%;\" class=\"plotly-graph-div\"></div><script type=\"text/javascript\">require([\"plotly\"], function(Plotly) { window.PLOTLYENV=window.PLOTLYENV || {};window.PLOTLYENV.BASE_URL=\"https://plot.ly\";Plotly.newPlot(\"4220bbfc-b526-4a5e-a96f-1cf30362973e\", [{\"mode\": \"markers\", \"name\": \"movie data\", \"text\": [\"21 &amp; Over\", \"Dredd 3D\", \"12 Years a Slave\", \"2 Guns\", \"42\", \"47 Ronin\", \"A Good Day to Die Hard\", \"About Time\", \"After Earth\", \"August: Osage County\", \"Beautiful Creatures\", \"Blue Jasmine\", \"Captain Phillips\", \"Carrie\", \"Cloudy with a Chance of Meatballs 2\", \"Despicable Me 2\", \"Don Jon\", \"Elysium\", \"Ender&#39;s Game\", \"Epic\", \"Escape Plan\", \"Evil Dead\", \"Fast and Furious 6\", \"Frozen\", \"G.I. Joe: Retaliation\", \"Gangster Squad\", \"Grown Ups\", \"Her\", \"Identity Thief\", \"Iron Man 3\"], \"x\": [13.0, 46.0, 20.0, 61.0, 40.0, 225.0, 92.0, 12.0, 130.0, 25.0, 50.0, 18.0, 55.0, 30.0, 78.0, 76.0, 6.0, 120.0, 110.0, 100.0, 70.0, 17.0, 160.0, 150.0, 140.0, 60.0, 80.0, 23.0, 35.0, 200.0], \"y\": [26.0, 13.0, 53.0, 76.0, 95.0, 38.0, 67.0, 15.0, 61.0, 37.0, 19.0, 33.0, 107.0, 35.0, 120.0, 368.0, 24.0, 93.0, 62.0, 108.0, 25.0, 54.0, 239.0, 393.0, 123.0, 46.0, 134.0, 25.0, 135.0, 409.0], \"type\": \"scatter\", \"uid\": \"56ac5480-7112-11e9-8446-99e202bd50b1\"}, {\"mode\": \"lines\", \"name\": \"estimated revenue\", \"x\": [13.0, 46.0, 20.0, 61.0, 40.0, 225.0, 92.0, 12.0, 130.0, 25.0, 50.0, 18.0, 55.0, 30.0, 78.0, 76.0, 6.0, 120.0, 110.0, 100.0, 70.0, 17.0, 160.0, 150.0, 140.0, 60.0, 80.0, 23.0, 35.0, 200.0], \"y\": [32.099999999999994, 88.2, 44.0, 113.7, 78.0, 392.5, 166.4, 30.4, 231.0, 52.5, 95.0, 40.599999999999994, 103.5, 61.0, 142.6, 139.2, 20.2, 214.0, 197.0, 180.0, 129.0, 38.9, 282.0, 265.0, 248.0, 112.0, 146.0, 49.1, 69.5, 350.0], \"type\": \"scatter\", \"uid\": \"56ac5624-7112-11e9-8446-99e202bd50b1\"}], {}, {\"showLink\": true, \"linkText\": \"Export to plot.ly\"})});</script>"
      ]
     },
     "metadata": {},
     "output_type": "display_data"
    }
   ],
   "source": [
    "from plotly.offline import iplot, init_notebook_mode\n",
    "init_notebook_mode(connected=True)\n",
    "from graph import trace_values, m_b_trace, plot\n",
    "\n",
    "if x_values and y_values:\n",
    "    movies_trace = trace_values(x_values, y_values, text=titles, name='movie data')\n",
    "    regression_trace = m_b_trace(1.7, 10, x_values, name='estimated revenue')\n",
    "    plot([movies_trace, regression_trace])"
   ]
  },
  {
   "cell_type": "markdown",
   "metadata": {},
   "source": [
    "### Calculating errors of a regression Line"
   ]
  },
  {
   "cell_type": "markdown",
   "metadata": {},
   "source": [
    "Now that we have our regression formula, we can move towards calculating the error. We provide a function called `y_actual` that given a data set of `x_values` and `y_values`, finds the actual y value, provided a value of `x`.\n",
    "\n"
   ]
  },
  {
   "cell_type": "code",
   "execution_count": 24,
   "metadata": {},
   "outputs": [],
   "source": [
    "def y_actual(x, x_values, y_values):\n",
    "    combined_values = list(zip(x_values, y_values))\n",
    "    point_at_x = list(filter(lambda point: point[0] == x,combined_values))[0]\n",
    "    return point_at_x[1]"
   ]
  },
  {
   "cell_type": "code",
   "execution_count": 25,
   "metadata": {},
   "outputs": [
    {
     "data": {
      "text/plain": [
       "26.0"
      ]
     },
     "execution_count": 25,
     "metadata": {},
     "output_type": "execute_result"
    }
   ],
   "source": [
    "x_values and y_values and y_actual(13, x_values, y_values) # 26.0"
   ]
  },
  {
   "cell_type": "markdown",
   "metadata": {},
   "source": [
    "Write a function called `error`, that given a list of `x_values`, and a list of `y_values`, the values `m` and `b` of a regression line, and a value of `x`, returns the error at that x value.  Remember ${\\varepsilon_i} =  y_i - \\hat{y}_i$.  "
   ]
  },
  {
   "cell_type": "code",
   "execution_count": 26,
   "metadata": {},
   "outputs": [],
   "source": [
    "def error(x_values, y_values, m, b, x):\n",
    "    exp = m*x + b\n",
    "    return y_actual(x, x_values, y_values) - exp"
   ]
  },
  {
   "cell_type": "code",
   "execution_count": 27,
   "metadata": {},
   "outputs": [
    {
     "data": {
      "text/plain": [
       "-6.099999999999994"
      ]
     },
     "execution_count": 27,
     "metadata": {},
     "output_type": "execute_result"
    }
   ],
   "source": [
    "error(x_values, y_values, 1.7, 10, 13) # -6.099999999999994"
   ]
  },
  {
   "cell_type": "markdown",
   "metadata": {},
   "source": [
    "Now that we have a formula to calculate our errors, write a function called `error_line_trace` that returns a trace of an error at a given point.  So for a given movie budget, it will display the difference between the regression line and the actual movie revenue."
   ]
  },
  {
   "cell_type": "markdown",
   "metadata": {},
   "source": [
    "![](./error-line.png)"
   ]
  },
  {
   "cell_type": "markdown",
   "metadata": {},
   "source": [
    "Ok, so the function `error_line_trace` takes our dataset of `x_values` as the first argument and `y_values` as the second argument.  It also takes in values of $m$ and $b$ as the next two arguments to represent the regression line we will calculate errors from. Finally, the last argument is the value $x$ it is drawing an error for.\n",
    "\n",
    "The return value is a dictionary that represents a trace, and looks like the following:\n",
    "\n",
    "```python\n",
    "{'marker': {'color': 'red'},\n",
    " 'mode': 'lines',\n",
    " 'name': 'error at 120',\n",
    " 'x': [120, 120],\n",
    " 'y': [93.0, 214.0]}\n",
    "\n",
    "```\n",
    "\n",
    "The trace represents the error line above. The data in `x` and `y` represent the starting point and ending point of the error line. Note that the x value is the same for the starting and ending point, just as it is for each vertical line. It's just the y values that differ - representing the actual value and the expected value. The mode of the trace equals `'lines'`."
   ]
  },
  {
   "cell_type": "code",
   "execution_count": 30,
   "metadata": {},
   "outputs": [],
   "source": [
    "def error_line_trace(x_values, y_values, m, b, x):\n",
    "    y_hat = m*x + b\n",
    "    y = y_actual(x, x_values, y_values)\n",
    "    n = 'error for ' + str(x)\n",
    "    return {'x': [x, x], 'y': [y, y_hat], 'mode': 'lines', 'marker': {'color': 'red'}, 'name': n}"
   ]
  },
  {
   "cell_type": "code",
   "execution_count": 31,
   "metadata": {},
   "outputs": [
    {
     "data": {
      "text/plain": [
       "{'x': [120, 120],\n",
       " 'y': [93.0, 214.0],\n",
       " 'mode': 'lines',\n",
       " 'marker': {'color': 'red'},\n",
       " 'name': 'error for 120'}"
      ]
     },
     "execution_count": 31,
     "metadata": {},
     "output_type": "execute_result"
    }
   ],
   "source": [
    "error_at_120m = error_line_trace(x_values, y_values, 1.7, 10, 120)\n",
    "\n",
    "# {'marker': {'color': 'red'},\n",
    "#  'mode': 'lines',\n",
    "#  'name': 'error at 120',\n",
    "#  'x': [120, 120],\n",
    "#  'y': [93.0, 214.0]}\n",
    "error_at_120m"
   ]
  },
  {
   "cell_type": "markdown",
   "metadata": {},
   "source": [
    "We just ran the our function to draw a trace of the error for the movie Elysium.  Let's see how it looks."
   ]
  },
  {
   "cell_type": "code",
   "execution_count": 32,
   "metadata": {},
   "outputs": [
    {
     "data": {
      "text/plain": [
       "{'title': 'Elysium', 'budget': 120.0, 'domgross': 93.0}"
      ]
     },
     "execution_count": 32,
     "metadata": {},
     "output_type": "execute_result"
    }
   ],
   "source": [
    "scaled_movies[17]"
   ]
  },
  {
   "cell_type": "code",
   "execution_count": 33,
   "metadata": {},
   "outputs": [
    {
     "data": {
      "text/html": [
       "<script>requirejs.config({paths: { 'plotly': ['https://cdn.plot.ly/plotly-latest.min']},});if(!window.Plotly) {{require(['plotly'],function(plotly) {window.Plotly=plotly;});}}</script>"
      ],
      "text/vnd.plotly.v1+html": [
       "<script>requirejs.config({paths: { 'plotly': ['https://cdn.plot.ly/plotly-latest.min']},});if(!window.Plotly) {{require(['plotly'],function(plotly) {window.Plotly=plotly;});}}</script>"
      ]
     },
     "metadata": {},
     "output_type": "display_data"
    },
    {
     "data": {
      "application/vnd.plotly.v1+json": {
       "data": [
        {
         "mode": "markers",
         "name": "movie data",
         "text": [
          "21 &amp; Over",
          "Dredd 3D",
          "12 Years a Slave",
          "2 Guns",
          "42",
          "47 Ronin",
          "A Good Day to Die Hard",
          "About Time",
          "After Earth",
          "August: Osage County",
          "Beautiful Creatures",
          "Blue Jasmine",
          "Captain Phillips",
          "Carrie",
          "Cloudy with a Chance of Meatballs 2",
          "Despicable Me 2",
          "Don Jon",
          "Elysium",
          "Ender&#39;s Game",
          "Epic",
          "Escape Plan",
          "Evil Dead",
          "Fast and Furious 6",
          "Frozen",
          "G.I. Joe: Retaliation",
          "Gangster Squad",
          "Grown Ups",
          "Her",
          "Identity Thief",
          "Iron Man 3"
         ],
         "type": "scatter",
         "uid": "7c72f5ec-7113-11e9-8446-99e202bd50b1",
         "x": [
          13,
          46,
          20,
          61,
          40,
          225,
          92,
          12,
          130,
          25,
          50,
          18,
          55,
          30,
          78,
          76,
          6,
          120,
          110,
          100,
          70,
          17,
          160,
          150,
          140,
          60,
          80,
          23,
          35,
          200
         ],
         "y": [
          26,
          13,
          53,
          76,
          95,
          38,
          67,
          15,
          61,
          37,
          19,
          33,
          107,
          35,
          120,
          368,
          24,
          93,
          62,
          108,
          25,
          54,
          239,
          393,
          123,
          46,
          134,
          25,
          135,
          409
         ]
        },
        {
         "mode": "lines",
         "name": "estimated revenue",
         "type": "scatter",
         "uid": "7c72f8c6-7113-11e9-8446-99e202bd50b1",
         "x": [
          13,
          46,
          20,
          61,
          40,
          225,
          92,
          12,
          130,
          25,
          50,
          18,
          55,
          30,
          78,
          76,
          6,
          120,
          110,
          100,
          70,
          17,
          160,
          150,
          140,
          60,
          80,
          23,
          35,
          200
         ],
         "y": [
          32.099999999999994,
          88.2,
          44,
          113.7,
          78,
          392.5,
          166.4,
          30.4,
          231,
          52.5,
          95,
          40.599999999999994,
          103.5,
          61,
          142.6,
          139.2,
          20.2,
          214,
          197,
          180,
          129,
          38.9,
          282,
          265,
          248,
          112,
          146,
          49.1,
          69.5,
          350
         ]
        },
        {
         "marker": {
          "color": "red"
         },
         "mode": "lines",
         "name": "error for 120",
         "type": "scatter",
         "uid": "7c72fa1a-7113-11e9-8446-99e202bd50b1",
         "x": [
          120,
          120
         ],
         "y": [
          93,
          214
         ]
        }
       ],
       "layout": {}
      },
      "text/html": [
       "<div id=\"4ec14728-edae-4131-b76f-59dce6aa8e16\" style=\"height: 525px; width: 100%;\" class=\"plotly-graph-div\"></div><script type=\"text/javascript\">require([\"plotly\"], function(Plotly) { window.PLOTLYENV=window.PLOTLYENV || {};window.PLOTLYENV.BASE_URL=\"https://plot.ly\";Plotly.newPlot(\"4ec14728-edae-4131-b76f-59dce6aa8e16\", [{\"mode\": \"markers\", \"name\": \"movie data\", \"text\": [\"21 &amp; Over\", \"Dredd 3D\", \"12 Years a Slave\", \"2 Guns\", \"42\", \"47 Ronin\", \"A Good Day to Die Hard\", \"About Time\", \"After Earth\", \"August: Osage County\", \"Beautiful Creatures\", \"Blue Jasmine\", \"Captain Phillips\", \"Carrie\", \"Cloudy with a Chance of Meatballs 2\", \"Despicable Me 2\", \"Don Jon\", \"Elysium\", \"Ender&#39;s Game\", \"Epic\", \"Escape Plan\", \"Evil Dead\", \"Fast and Furious 6\", \"Frozen\", \"G.I. Joe: Retaliation\", \"Gangster Squad\", \"Grown Ups\", \"Her\", \"Identity Thief\", \"Iron Man 3\"], \"x\": [13.0, 46.0, 20.0, 61.0, 40.0, 225.0, 92.0, 12.0, 130.0, 25.0, 50.0, 18.0, 55.0, 30.0, 78.0, 76.0, 6.0, 120.0, 110.0, 100.0, 70.0, 17.0, 160.0, 150.0, 140.0, 60.0, 80.0, 23.0, 35.0, 200.0], \"y\": [26.0, 13.0, 53.0, 76.0, 95.0, 38.0, 67.0, 15.0, 61.0, 37.0, 19.0, 33.0, 107.0, 35.0, 120.0, 368.0, 24.0, 93.0, 62.0, 108.0, 25.0, 54.0, 239.0, 393.0, 123.0, 46.0, 134.0, 25.0, 135.0, 409.0], \"type\": \"scatter\", \"uid\": \"7c7824b8-7113-11e9-8446-99e202bd50b1\"}, {\"mode\": \"lines\", \"name\": \"estimated revenue\", \"x\": [13.0, 46.0, 20.0, 61.0, 40.0, 225.0, 92.0, 12.0, 130.0, 25.0, 50.0, 18.0, 55.0, 30.0, 78.0, 76.0, 6.0, 120.0, 110.0, 100.0, 70.0, 17.0, 160.0, 150.0, 140.0, 60.0, 80.0, 23.0, 35.0, 200.0], \"y\": [32.099999999999994, 88.2, 44.0, 113.7, 78.0, 392.5, 166.4, 30.4, 231.0, 52.5, 95.0, 40.599999999999994, 103.5, 61.0, 142.6, 139.2, 20.2, 214.0, 197.0, 180.0, 129.0, 38.9, 282.0, 265.0, 248.0, 112.0, 146.0, 49.1, 69.5, 350.0], \"type\": \"scatter\", \"uid\": \"7c782670-7113-11e9-8446-99e202bd50b1\"}, {\"marker\": {\"color\": \"red\"}, \"mode\": \"lines\", \"name\": \"error for 120\", \"x\": [120, 120], \"y\": [93.0, 214.0], \"type\": \"scatter\", \"uid\": \"7c782774-7113-11e9-8446-99e202bd50b1\"}], {}, {\"showLink\": true, \"linkText\": \"Export to plot.ly\"})});</script>"
      ],
      "text/vnd.plotly.v1+html": [
       "<div id=\"4ec14728-edae-4131-b76f-59dce6aa8e16\" style=\"height: 525px; width: 100%;\" class=\"plotly-graph-div\"></div><script type=\"text/javascript\">require([\"plotly\"], function(Plotly) { window.PLOTLYENV=window.PLOTLYENV || {};window.PLOTLYENV.BASE_URL=\"https://plot.ly\";Plotly.newPlot(\"4ec14728-edae-4131-b76f-59dce6aa8e16\", [{\"mode\": \"markers\", \"name\": \"movie data\", \"text\": [\"21 &amp; Over\", \"Dredd 3D\", \"12 Years a Slave\", \"2 Guns\", \"42\", \"47 Ronin\", \"A Good Day to Die Hard\", \"About Time\", \"After Earth\", \"August: Osage County\", \"Beautiful Creatures\", \"Blue Jasmine\", \"Captain Phillips\", \"Carrie\", \"Cloudy with a Chance of Meatballs 2\", \"Despicable Me 2\", \"Don Jon\", \"Elysium\", \"Ender&#39;s Game\", \"Epic\", \"Escape Plan\", \"Evil Dead\", \"Fast and Furious 6\", \"Frozen\", \"G.I. Joe: Retaliation\", \"Gangster Squad\", \"Grown Ups\", \"Her\", \"Identity Thief\", \"Iron Man 3\"], \"x\": [13.0, 46.0, 20.0, 61.0, 40.0, 225.0, 92.0, 12.0, 130.0, 25.0, 50.0, 18.0, 55.0, 30.0, 78.0, 76.0, 6.0, 120.0, 110.0, 100.0, 70.0, 17.0, 160.0, 150.0, 140.0, 60.0, 80.0, 23.0, 35.0, 200.0], \"y\": [26.0, 13.0, 53.0, 76.0, 95.0, 38.0, 67.0, 15.0, 61.0, 37.0, 19.0, 33.0, 107.0, 35.0, 120.0, 368.0, 24.0, 93.0, 62.0, 108.0, 25.0, 54.0, 239.0, 393.0, 123.0, 46.0, 134.0, 25.0, 135.0, 409.0], \"type\": \"scatter\", \"uid\": \"7c7824b8-7113-11e9-8446-99e202bd50b1\"}, {\"mode\": \"lines\", \"name\": \"estimated revenue\", \"x\": [13.0, 46.0, 20.0, 61.0, 40.0, 225.0, 92.0, 12.0, 130.0, 25.0, 50.0, 18.0, 55.0, 30.0, 78.0, 76.0, 6.0, 120.0, 110.0, 100.0, 70.0, 17.0, 160.0, 150.0, 140.0, 60.0, 80.0, 23.0, 35.0, 200.0], \"y\": [32.099999999999994, 88.2, 44.0, 113.7, 78.0, 392.5, 166.4, 30.4, 231.0, 52.5, 95.0, 40.599999999999994, 103.5, 61.0, 142.6, 139.2, 20.2, 214.0, 197.0, 180.0, 129.0, 38.9, 282.0, 265.0, 248.0, 112.0, 146.0, 49.1, 69.5, 350.0], \"type\": \"scatter\", \"uid\": \"7c782670-7113-11e9-8446-99e202bd50b1\"}, {\"marker\": {\"color\": \"red\"}, \"mode\": \"lines\", \"name\": \"error for 120\", \"x\": [120, 120], \"y\": [93.0, 214.0], \"type\": \"scatter\", \"uid\": \"7c782774-7113-11e9-8446-99e202bd50b1\"}], {}, {\"showLink\": true, \"linkText\": \"Export to plot.ly\"})});</script>"
      ]
     },
     "metadata": {},
     "output_type": "display_data"
    }
   ],
   "source": [
    "from plotly.offline import iplot, init_notebook_mode\n",
    "init_notebook_mode(connected=True)\n",
    "from graph import trace_values, m_b_trace, plot\n",
    "if x_values and y_values:\n",
    "    movies_trace = trace_values(x_values, y_values, text=titles, name='movie data')\n",
    "    regression_trace = m_b_trace(1.7, 10, x_values, name='estimated revenue')\n",
    "    plot([movies_trace, regression_trace, error_at_120m])"
   ]
  },
  {
   "cell_type": "markdown",
   "metadata": {},
   "source": [
    "From there, we can write a function called `error_line_traces`, that takes in a list of `x_values` as an argument, `y_values` as an argument, and returns a list of traces for every x value provided."
   ]
  },
  {
   "cell_type": "code",
   "execution_count": 39,
   "metadata": {},
   "outputs": [],
   "source": [
    "def error_line_traces(x_values, y_values, m, b):\n",
    "    return list(map(lambda x_value: error_line_trace(x_values, y_values, m, b, x_value),x_values))"
   ]
  },
  {
   "cell_type": "code",
   "execution_count": 40,
   "metadata": {},
   "outputs": [],
   "source": [
    "errors_for_regression = error_line_traces(x_values, y_values, 1.7, 10)"
   ]
  },
  {
   "cell_type": "code",
   "execution_count": 41,
   "metadata": {},
   "outputs": [
    {
     "data": {
      "text/plain": [
       "30"
      ]
     },
     "execution_count": 41,
     "metadata": {},
     "output_type": "execute_result"
    }
   ],
   "source": [
    "errors_for_regression and len(errors_for_regression) # 30"
   ]
  },
  {
   "cell_type": "code",
   "execution_count": 42,
   "metadata": {},
   "outputs": [
    {
     "data": {
      "text/plain": [
       "{'x': [200.0, 200.0],\n",
       " 'y': [409.0, 350.0],\n",
       " 'mode': 'lines',\n",
       " 'marker': {'color': 'red'},\n",
       " 'name': 'error for 200.0'}"
      ]
     },
     "execution_count": 42,
     "metadata": {},
     "output_type": "execute_result"
    }
   ],
   "source": [
    "errors_for_regression and errors_for_regression[-1]\n",
    "\n",
    "# {'x': [200.0, 200.0],\n",
    "#  'y': [409.0, 350.0],\n",
    "#  'mode': 'lines',\n",
    "#  'marker': {'color': 'red'},\n",
    "#  'name': 'error at 200.0'}"
   ]
  },
  {
   "cell_type": "code",
   "execution_count": 43,
   "metadata": {},
   "outputs": [
    {
     "data": {
      "text/html": [
       "<script>requirejs.config({paths: { 'plotly': ['https://cdn.plot.ly/plotly-latest.min']},});if(!window.Plotly) {{require(['plotly'],function(plotly) {window.Plotly=plotly;});}}</script>"
      ],
      "text/vnd.plotly.v1+html": [
       "<script>requirejs.config({paths: { 'plotly': ['https://cdn.plot.ly/plotly-latest.min']},});if(!window.Plotly) {{require(['plotly'],function(plotly) {window.Plotly=plotly;});}}</script>"
      ]
     },
     "metadata": {},
     "output_type": "display_data"
    },
    {
     "data": {
      "application/vnd.plotly.v1+json": {
       "data": [
        {
         "mode": "markers",
         "name": "movie data",
         "text": [
          "21 &amp; Over",
          "Dredd 3D",
          "12 Years a Slave",
          "2 Guns",
          "42",
          "47 Ronin",
          "A Good Day to Die Hard",
          "About Time",
          "After Earth",
          "August: Osage County",
          "Beautiful Creatures",
          "Blue Jasmine",
          "Captain Phillips",
          "Carrie",
          "Cloudy with a Chance of Meatballs 2",
          "Despicable Me 2",
          "Don Jon",
          "Elysium",
          "Ender&#39;s Game",
          "Epic",
          "Escape Plan",
          "Evil Dead",
          "Fast and Furious 6",
          "Frozen",
          "G.I. Joe: Retaliation",
          "Gangster Squad",
          "Grown Ups",
          "Her",
          "Identity Thief",
          "Iron Man 3"
         ],
         "type": "scatter",
         "uid": "e1abf292-7113-11e9-8446-99e202bd50b1",
         "x": [
          13,
          46,
          20,
          61,
          40,
          225,
          92,
          12,
          130,
          25,
          50,
          18,
          55,
          30,
          78,
          76,
          6,
          120,
          110,
          100,
          70,
          17,
          160,
          150,
          140,
          60,
          80,
          23,
          35,
          200
         ],
         "y": [
          26,
          13,
          53,
          76,
          95,
          38,
          67,
          15,
          61,
          37,
          19,
          33,
          107,
          35,
          120,
          368,
          24,
          93,
          62,
          108,
          25,
          54,
          239,
          393,
          123,
          46,
          134,
          25,
          135,
          409
         ]
        },
        {
         "mode": "lines",
         "name": "estimated revenue",
         "type": "scatter",
         "uid": "e1abf45e-7113-11e9-8446-99e202bd50b1",
         "x": [
          13,
          46,
          20,
          61,
          40,
          225,
          92,
          12,
          130,
          25,
          50,
          18,
          55,
          30,
          78,
          76,
          6,
          120,
          110,
          100,
          70,
          17,
          160,
          150,
          140,
          60,
          80,
          23,
          35,
          200
         ],
         "y": [
          32.099999999999994,
          88.2,
          44,
          113.7,
          78,
          392.5,
          166.4,
          30.4,
          231,
          52.5,
          95,
          40.599999999999994,
          103.5,
          61,
          142.6,
          139.2,
          20.2,
          214,
          197,
          180,
          129,
          38.9,
          282,
          265,
          248,
          112,
          146,
          49.1,
          69.5,
          350
         ]
        },
        {
         "marker": {
          "color": "red"
         },
         "mode": "lines",
         "name": "error for 13.0",
         "type": "scatter",
         "uid": "e1abf5d0-7113-11e9-8446-99e202bd50b1",
         "x": [
          13,
          13
         ],
         "y": [
          26,
          32.099999999999994
         ]
        },
        {
         "marker": {
          "color": "red"
         },
         "mode": "lines",
         "name": "error for 46.0",
         "type": "scatter",
         "uid": "e1abf68e-7113-11e9-8446-99e202bd50b1",
         "x": [
          46,
          46
         ],
         "y": [
          13,
          88.2
         ]
        },
        {
         "marker": {
          "color": "red"
         },
         "mode": "lines",
         "name": "error for 20.0",
         "type": "scatter",
         "uid": "e1abf738-7113-11e9-8446-99e202bd50b1",
         "x": [
          20,
          20
         ],
         "y": [
          53,
          44
         ]
        },
        {
         "marker": {
          "color": "red"
         },
         "mode": "lines",
         "name": "error for 61.0",
         "type": "scatter",
         "uid": "e1abf7d8-7113-11e9-8446-99e202bd50b1",
         "x": [
          61,
          61
         ],
         "y": [
          76,
          113.7
         ]
        },
        {
         "marker": {
          "color": "red"
         },
         "mode": "lines",
         "name": "error for 40.0",
         "type": "scatter",
         "uid": "e1abf878-7113-11e9-8446-99e202bd50b1",
         "x": [
          40,
          40
         ],
         "y": [
          95,
          78
         ]
        },
        {
         "marker": {
          "color": "red"
         },
         "mode": "lines",
         "name": "error for 225.0",
         "type": "scatter",
         "uid": "e1abf918-7113-11e9-8446-99e202bd50b1",
         "x": [
          225,
          225
         ],
         "y": [
          38,
          392.5
         ]
        },
        {
         "marker": {
          "color": "red"
         },
         "mode": "lines",
         "name": "error for 92.0",
         "type": "scatter",
         "uid": "e1abf9f4-7113-11e9-8446-99e202bd50b1",
         "x": [
          92,
          92
         ],
         "y": [
          67,
          166.4
         ]
        },
        {
         "marker": {
          "color": "red"
         },
         "mode": "lines",
         "name": "error for 12.0",
         "type": "scatter",
         "uid": "e1abfa9e-7113-11e9-8446-99e202bd50b1",
         "x": [
          12,
          12
         ],
         "y": [
          15,
          30.4
         ]
        },
        {
         "marker": {
          "color": "red"
         },
         "mode": "lines",
         "name": "error for 130.0",
         "type": "scatter",
         "uid": "e1abfb3e-7113-11e9-8446-99e202bd50b1",
         "x": [
          130,
          130
         ],
         "y": [
          61,
          231
         ]
        },
        {
         "marker": {
          "color": "red"
         },
         "mode": "lines",
         "name": "error for 25.0",
         "type": "scatter",
         "uid": "e1abfbe8-7113-11e9-8446-99e202bd50b1",
         "x": [
          25,
          25
         ],
         "y": [
          37,
          52.5
         ]
        },
        {
         "marker": {
          "color": "red"
         },
         "mode": "lines",
         "name": "error for 50.0",
         "type": "scatter",
         "uid": "e1abfc88-7113-11e9-8446-99e202bd50b1",
         "x": [
          50,
          50
         ],
         "y": [
          19,
          95
         ]
        },
        {
         "marker": {
          "color": "red"
         },
         "mode": "lines",
         "name": "error for 18.0",
         "type": "scatter",
         "uid": "e1abfd28-7113-11e9-8446-99e202bd50b1",
         "x": [
          18,
          18
         ],
         "y": [
          33,
          40.599999999999994
         ]
        },
        {
         "marker": {
          "color": "red"
         },
         "mode": "lines",
         "name": "error for 55.0",
         "type": "scatter",
         "uid": "e1abfe68-7113-11e9-8446-99e202bd50b1",
         "x": [
          55,
          55
         ],
         "y": [
          107,
          103.5
         ]
        },
        {
         "marker": {
          "color": "red"
         },
         "mode": "lines",
         "name": "error for 30.0",
         "type": "scatter",
         "uid": "e1abffbc-7113-11e9-8446-99e202bd50b1",
         "x": [
          30,
          30
         ],
         "y": [
          35,
          61
         ]
        },
        {
         "marker": {
          "color": "red"
         },
         "mode": "lines",
         "name": "error for 78.0",
         "type": "scatter",
         "uid": "e1ac0066-7113-11e9-8446-99e202bd50b1",
         "x": [
          78,
          78
         ],
         "y": [
          120,
          142.6
         ]
        },
        {
         "marker": {
          "color": "red"
         },
         "mode": "lines",
         "name": "error for 76.0",
         "type": "scatter",
         "uid": "e1ac0110-7113-11e9-8446-99e202bd50b1",
         "x": [
          76,
          76
         ],
         "y": [
          368,
          139.2
         ]
        },
        {
         "marker": {
          "color": "red"
         },
         "mode": "lines",
         "name": "error for 6.0",
         "type": "scatter",
         "uid": "e1ac021e-7113-11e9-8446-99e202bd50b1",
         "x": [
          6,
          6
         ],
         "y": [
          24,
          20.2
         ]
        },
        {
         "marker": {
          "color": "red"
         },
         "mode": "lines",
         "name": "error for 120.0",
         "type": "scatter",
         "uid": "e1ac030e-7113-11e9-8446-99e202bd50b1",
         "x": [
          120,
          120
         ],
         "y": [
          93,
          214
         ]
        },
        {
         "marker": {
          "color": "red"
         },
         "mode": "lines",
         "name": "error for 110.0",
         "type": "scatter",
         "uid": "e1ac03b8-7113-11e9-8446-99e202bd50b1",
         "x": [
          110,
          110
         ],
         "y": [
          62,
          197
         ]
        },
        {
         "marker": {
          "color": "red"
         },
         "mode": "lines",
         "name": "error for 100.0",
         "type": "scatter",
         "uid": "e1ac0462-7113-11e9-8446-99e202bd50b1",
         "x": [
          100,
          100
         ],
         "y": [
          108,
          180
         ]
        },
        {
         "marker": {
          "color": "red"
         },
         "mode": "lines",
         "name": "error for 70.0",
         "type": "scatter",
         "uid": "e1ac050c-7113-11e9-8446-99e202bd50b1",
         "x": [
          70,
          70
         ],
         "y": [
          25,
          129
         ]
        },
        {
         "marker": {
          "color": "red"
         },
         "mode": "lines",
         "name": "error for 17.0",
         "type": "scatter",
         "uid": "e1ac05b6-7113-11e9-8446-99e202bd50b1",
         "x": [
          17,
          17
         ],
         "y": [
          54,
          38.9
         ]
        },
        {
         "marker": {
          "color": "red"
         },
         "mode": "lines",
         "name": "error for 160.0",
         "type": "scatter",
         "uid": "e1ac0660-7113-11e9-8446-99e202bd50b1",
         "x": [
          160,
          160
         ],
         "y": [
          239,
          282
         ]
        },
        {
         "marker": {
          "color": "red"
         },
         "mode": "lines",
         "name": "error for 150.0",
         "type": "scatter",
         "uid": "e1ac070a-7113-11e9-8446-99e202bd50b1",
         "x": [
          150,
          150
         ],
         "y": [
          393,
          265
         ]
        },
        {
         "marker": {
          "color": "red"
         },
         "mode": "lines",
         "name": "error for 140.0",
         "type": "scatter",
         "uid": "e1ac07b4-7113-11e9-8446-99e202bd50b1",
         "x": [
          140,
          140
         ],
         "y": [
          123,
          248
         ]
        },
        {
         "marker": {
          "color": "red"
         },
         "mode": "lines",
         "name": "error for 60.0",
         "type": "scatter",
         "uid": "e1ac0854-7113-11e9-8446-99e202bd50b1",
         "x": [
          60,
          60
         ],
         "y": [
          46,
          112
         ]
        },
        {
         "marker": {
          "color": "red"
         },
         "mode": "lines",
         "name": "error for 80.0",
         "type": "scatter",
         "uid": "e1ac08fe-7113-11e9-8446-99e202bd50b1",
         "x": [
          80,
          80
         ],
         "y": [
          134,
          146
         ]
        },
        {
         "marker": {
          "color": "red"
         },
         "mode": "lines",
         "name": "error for 23.0",
         "type": "scatter",
         "uid": "e1ac09a8-7113-11e9-8446-99e202bd50b1",
         "x": [
          23,
          23
         ],
         "y": [
          25,
          49.1
         ]
        },
        {
         "marker": {
          "color": "red"
         },
         "mode": "lines",
         "name": "error for 35.0",
         "type": "scatter",
         "uid": "e1ac0a3e-7113-11e9-8446-99e202bd50b1",
         "x": [
          35,
          35
         ],
         "y": [
          135,
          69.5
         ]
        },
        {
         "marker": {
          "color": "red"
         },
         "mode": "lines",
         "name": "error for 200.0",
         "type": "scatter",
         "uid": "e1ac0ad4-7113-11e9-8446-99e202bd50b1",
         "x": [
          200,
          200
         ],
         "y": [
          409,
          350
         ]
        }
       ],
       "layout": {}
      },
      "text/html": [
       "<div id=\"f99fdb9e-c2f6-4a6c-a163-200487c70f8d\" style=\"height: 525px; width: 100%;\" class=\"plotly-graph-div\"></div><script type=\"text/javascript\">require([\"plotly\"], function(Plotly) { window.PLOTLYENV=window.PLOTLYENV || {};window.PLOTLYENV.BASE_URL=\"https://plot.ly\";Plotly.newPlot(\"f99fdb9e-c2f6-4a6c-a163-200487c70f8d\", [{\"mode\": \"markers\", \"name\": \"movie data\", \"text\": [\"21 &amp; Over\", \"Dredd 3D\", \"12 Years a Slave\", \"2 Guns\", \"42\", \"47 Ronin\", \"A Good Day to Die Hard\", \"About Time\", \"After Earth\", \"August: Osage County\", \"Beautiful Creatures\", \"Blue Jasmine\", \"Captain Phillips\", \"Carrie\", \"Cloudy with a Chance of Meatballs 2\", \"Despicable Me 2\", \"Don Jon\", \"Elysium\", \"Ender&#39;s Game\", \"Epic\", \"Escape Plan\", \"Evil Dead\", \"Fast and Furious 6\", \"Frozen\", \"G.I. Joe: Retaliation\", \"Gangster Squad\", \"Grown Ups\", \"Her\", \"Identity Thief\", \"Iron Man 3\"], \"x\": [13.0, 46.0, 20.0, 61.0, 40.0, 225.0, 92.0, 12.0, 130.0, 25.0, 50.0, 18.0, 55.0, 30.0, 78.0, 76.0, 6.0, 120.0, 110.0, 100.0, 70.0, 17.0, 160.0, 150.0, 140.0, 60.0, 80.0, 23.0, 35.0, 200.0], \"y\": [26.0, 13.0, 53.0, 76.0, 95.0, 38.0, 67.0, 15.0, 61.0, 37.0, 19.0, 33.0, 107.0, 35.0, 120.0, 368.0, 24.0, 93.0, 62.0, 108.0, 25.0, 54.0, 239.0, 393.0, 123.0, 46.0, 134.0, 25.0, 135.0, 409.0], \"type\": \"scatter\", \"uid\": \"e1d01302-7113-11e9-8446-99e202bd50b1\"}, {\"mode\": \"lines\", \"name\": \"estimated revenue\", \"x\": [13.0, 46.0, 20.0, 61.0, 40.0, 225.0, 92.0, 12.0, 130.0, 25.0, 50.0, 18.0, 55.0, 30.0, 78.0, 76.0, 6.0, 120.0, 110.0, 100.0, 70.0, 17.0, 160.0, 150.0, 140.0, 60.0, 80.0, 23.0, 35.0, 200.0], \"y\": [32.099999999999994, 88.2, 44.0, 113.7, 78.0, 392.5, 166.4, 30.4, 231.0, 52.5, 95.0, 40.599999999999994, 103.5, 61.0, 142.6, 139.2, 20.2, 214.0, 197.0, 180.0, 129.0, 38.9, 282.0, 265.0, 248.0, 112.0, 146.0, 49.1, 69.5, 350.0], \"type\": \"scatter\", \"uid\": \"e1d014e2-7113-11e9-8446-99e202bd50b1\"}, {\"marker\": {\"color\": \"red\"}, \"mode\": \"lines\", \"name\": \"error for 13.0\", \"x\": [13.0, 13.0], \"y\": [26.0, 32.099999999999994], \"type\": \"scatter\", \"uid\": \"e1d015d2-7113-11e9-8446-99e202bd50b1\"}, {\"marker\": {\"color\": \"red\"}, \"mode\": \"lines\", \"name\": \"error for 46.0\", \"x\": [46.0, 46.0], \"y\": [13.0, 88.2], \"type\": \"scatter\", \"uid\": \"e1d0169a-7113-11e9-8446-99e202bd50b1\"}, {\"marker\": {\"color\": \"red\"}, \"mode\": \"lines\", \"name\": \"error for 20.0\", \"x\": [20.0, 20.0], \"y\": [53.0, 44.0], \"type\": \"scatter\", \"uid\": \"e1d01758-7113-11e9-8446-99e202bd50b1\"}, {\"marker\": {\"color\": \"red\"}, \"mode\": \"lines\", \"name\": \"error for 61.0\", \"x\": [61.0, 61.0], \"y\": [76.0, 113.7], \"type\": \"scatter\", \"uid\": \"e1d0180c-7113-11e9-8446-99e202bd50b1\"}, {\"marker\": {\"color\": \"red\"}, \"mode\": \"lines\", \"name\": \"error for 40.0\", \"x\": [40.0, 40.0], \"y\": [95.0, 78.0], \"type\": \"scatter\", \"uid\": \"e1d018ca-7113-11e9-8446-99e202bd50b1\"}, {\"marker\": {\"color\": \"red\"}, \"mode\": \"lines\", \"name\": \"error for 225.0\", \"x\": [225.0, 225.0], \"y\": [38.0, 392.5], \"type\": \"scatter\", \"uid\": \"e1d01974-7113-11e9-8446-99e202bd50b1\"}, {\"marker\": {\"color\": \"red\"}, \"mode\": \"lines\", \"name\": \"error for 92.0\", \"x\": [92.0, 92.0], \"y\": [67.0, 166.4], \"type\": \"scatter\", \"uid\": \"e1d01a28-7113-11e9-8446-99e202bd50b1\"}, {\"marker\": {\"color\": \"red\"}, \"mode\": \"lines\", \"name\": \"error for 12.0\", \"x\": [12.0, 12.0], \"y\": [15.0, 30.4], \"type\": \"scatter\", \"uid\": \"e1d01adc-7113-11e9-8446-99e202bd50b1\"}, {\"marker\": {\"color\": \"red\"}, \"mode\": \"lines\", \"name\": \"error for 130.0\", \"x\": [130.0, 130.0], \"y\": [61.0, 231.0], \"type\": \"scatter\", \"uid\": \"e1d01b86-7113-11e9-8446-99e202bd50b1\"}, {\"marker\": {\"color\": \"red\"}, \"mode\": \"lines\", \"name\": \"error for 25.0\", \"x\": [25.0, 25.0], \"y\": [37.0, 52.5], \"type\": \"scatter\", \"uid\": \"e1d01c3a-7113-11e9-8446-99e202bd50b1\"}, {\"marker\": {\"color\": \"red\"}, \"mode\": \"lines\", \"name\": \"error for 50.0\", \"x\": [50.0, 50.0], \"y\": [19.0, 95.0], \"type\": \"scatter\", \"uid\": \"e1d01ce4-7113-11e9-8446-99e202bd50b1\"}, {\"marker\": {\"color\": \"red\"}, \"mode\": \"lines\", \"name\": \"error for 18.0\", \"x\": [18.0, 18.0], \"y\": [33.0, 40.599999999999994], \"type\": \"scatter\", \"uid\": \"e1d01d8e-7113-11e9-8446-99e202bd50b1\"}, {\"marker\": {\"color\": \"red\"}, \"mode\": \"lines\", \"name\": \"error for 55.0\", \"x\": [55.0, 55.0], \"y\": [107.0, 103.5], \"type\": \"scatter\", \"uid\": \"e1d01e42-7113-11e9-8446-99e202bd50b1\"}, {\"marker\": {\"color\": \"red\"}, \"mode\": \"lines\", \"name\": \"error for 30.0\", \"x\": [30.0, 30.0], \"y\": [35.0, 61.0], \"type\": \"scatter\", \"uid\": \"e1d01eec-7113-11e9-8446-99e202bd50b1\"}, {\"marker\": {\"color\": \"red\"}, \"mode\": \"lines\", \"name\": \"error for 78.0\", \"x\": [78.0, 78.0], \"y\": [120.0, 142.6], \"type\": \"scatter\", \"uid\": \"e1d01f96-7113-11e9-8446-99e202bd50b1\"}, {\"marker\": {\"color\": \"red\"}, \"mode\": \"lines\", \"name\": \"error for 76.0\", \"x\": [76.0, 76.0], \"y\": [368.0, 139.2], \"type\": \"scatter\", \"uid\": \"e1d0204a-7113-11e9-8446-99e202bd50b1\"}, {\"marker\": {\"color\": \"red\"}, \"mode\": \"lines\", \"name\": \"error for 6.0\", \"x\": [6.0, 6.0], \"y\": [24.0, 20.2], \"type\": \"scatter\", \"uid\": \"e1d020f4-7113-11e9-8446-99e202bd50b1\"}, {\"marker\": {\"color\": \"red\"}, \"mode\": \"lines\", \"name\": \"error for 120.0\", \"x\": [120.0, 120.0], \"y\": [93.0, 214.0], \"type\": \"scatter\", \"uid\": \"e1d021b2-7113-11e9-8446-99e202bd50b1\"}, {\"marker\": {\"color\": \"red\"}, \"mode\": \"lines\", \"name\": \"error for 110.0\", \"x\": [110.0, 110.0], \"y\": [62.0, 197.0], \"type\": \"scatter\", \"uid\": \"e1d0225c-7113-11e9-8446-99e202bd50b1\"}, {\"marker\": {\"color\": \"red\"}, \"mode\": \"lines\", \"name\": \"error for 100.0\", \"x\": [100.0, 100.0], \"y\": [108.0, 180.0], \"type\": \"scatter\", \"uid\": \"e1d02306-7113-11e9-8446-99e202bd50b1\"}, {\"marker\": {\"color\": \"red\"}, \"mode\": \"lines\", \"name\": \"error for 70.0\", \"x\": [70.0, 70.0], \"y\": [25.0, 129.0], \"type\": \"scatter\", \"uid\": \"e1d023b0-7113-11e9-8446-99e202bd50b1\"}, {\"marker\": {\"color\": \"red\"}, \"mode\": \"lines\", \"name\": \"error for 17.0\", \"x\": [17.0, 17.0], \"y\": [54.0, 38.9], \"type\": \"scatter\", \"uid\": \"e1d0245a-7113-11e9-8446-99e202bd50b1\"}, {\"marker\": {\"color\": \"red\"}, \"mode\": \"lines\", \"name\": \"error for 160.0\", \"x\": [160.0, 160.0], \"y\": [239.0, 282.0], \"type\": \"scatter\", \"uid\": \"e1d02504-7113-11e9-8446-99e202bd50b1\"}, {\"marker\": {\"color\": \"red\"}, \"mode\": \"lines\", \"name\": \"error for 150.0\", \"x\": [150.0, 150.0], \"y\": [393.0, 265.0], \"type\": \"scatter\", \"uid\": \"e1d025ae-7113-11e9-8446-99e202bd50b1\"}, {\"marker\": {\"color\": \"red\"}, \"mode\": \"lines\", \"name\": \"error for 140.0\", \"x\": [140.0, 140.0], \"y\": [123.0, 248.0], \"type\": \"scatter\", \"uid\": \"e1d02658-7113-11e9-8446-99e202bd50b1\"}, {\"marker\": {\"color\": \"red\"}, \"mode\": \"lines\", \"name\": \"error for 60.0\", \"x\": [60.0, 60.0], \"y\": [46.0, 112.0], \"type\": \"scatter\", \"uid\": \"e1d02702-7113-11e9-8446-99e202bd50b1\"}, {\"marker\": {\"color\": \"red\"}, \"mode\": \"lines\", \"name\": \"error for 80.0\", \"x\": [80.0, 80.0], \"y\": [134.0, 146.0], \"type\": \"scatter\", \"uid\": \"e1d027b6-7113-11e9-8446-99e202bd50b1\"}, {\"marker\": {\"color\": \"red\"}, \"mode\": \"lines\", \"name\": \"error for 23.0\", \"x\": [23.0, 23.0], \"y\": [25.0, 49.1], \"type\": \"scatter\", \"uid\": \"e1d02856-7113-11e9-8446-99e202bd50b1\"}, {\"marker\": {\"color\": \"red\"}, \"mode\": \"lines\", \"name\": \"error for 35.0\", \"x\": [35.0, 35.0], \"y\": [135.0, 69.5], \"type\": \"scatter\", \"uid\": \"e1d0290a-7113-11e9-8446-99e202bd50b1\"}, {\"marker\": {\"color\": \"red\"}, \"mode\": \"lines\", \"name\": \"error for 200.0\", \"x\": [200.0, 200.0], \"y\": [409.0, 350.0], \"type\": \"scatter\", \"uid\": \"e1d029dc-7113-11e9-8446-99e202bd50b1\"}], {}, {\"showLink\": true, \"linkText\": \"Export to plot.ly\"})});</script>"
      ],
      "text/vnd.plotly.v1+html": [
       "<div id=\"f99fdb9e-c2f6-4a6c-a163-200487c70f8d\" style=\"height: 525px; width: 100%;\" class=\"plotly-graph-div\"></div><script type=\"text/javascript\">require([\"plotly\"], function(Plotly) { window.PLOTLYENV=window.PLOTLYENV || {};window.PLOTLYENV.BASE_URL=\"https://plot.ly\";Plotly.newPlot(\"f99fdb9e-c2f6-4a6c-a163-200487c70f8d\", [{\"mode\": \"markers\", \"name\": \"movie data\", \"text\": [\"21 &amp; Over\", \"Dredd 3D\", \"12 Years a Slave\", \"2 Guns\", \"42\", \"47 Ronin\", \"A Good Day to Die Hard\", \"About Time\", \"After Earth\", \"August: Osage County\", \"Beautiful Creatures\", \"Blue Jasmine\", \"Captain Phillips\", \"Carrie\", \"Cloudy with a Chance of Meatballs 2\", \"Despicable Me 2\", \"Don Jon\", \"Elysium\", \"Ender&#39;s Game\", \"Epic\", \"Escape Plan\", \"Evil Dead\", \"Fast and Furious 6\", \"Frozen\", \"G.I. Joe: Retaliation\", \"Gangster Squad\", \"Grown Ups\", \"Her\", \"Identity Thief\", \"Iron Man 3\"], \"x\": [13.0, 46.0, 20.0, 61.0, 40.0, 225.0, 92.0, 12.0, 130.0, 25.0, 50.0, 18.0, 55.0, 30.0, 78.0, 76.0, 6.0, 120.0, 110.0, 100.0, 70.0, 17.0, 160.0, 150.0, 140.0, 60.0, 80.0, 23.0, 35.0, 200.0], \"y\": [26.0, 13.0, 53.0, 76.0, 95.0, 38.0, 67.0, 15.0, 61.0, 37.0, 19.0, 33.0, 107.0, 35.0, 120.0, 368.0, 24.0, 93.0, 62.0, 108.0, 25.0, 54.0, 239.0, 393.0, 123.0, 46.0, 134.0, 25.0, 135.0, 409.0], \"type\": \"scatter\", \"uid\": \"e1d01302-7113-11e9-8446-99e202bd50b1\"}, {\"mode\": \"lines\", \"name\": \"estimated revenue\", \"x\": [13.0, 46.0, 20.0, 61.0, 40.0, 225.0, 92.0, 12.0, 130.0, 25.0, 50.0, 18.0, 55.0, 30.0, 78.0, 76.0, 6.0, 120.0, 110.0, 100.0, 70.0, 17.0, 160.0, 150.0, 140.0, 60.0, 80.0, 23.0, 35.0, 200.0], \"y\": [32.099999999999994, 88.2, 44.0, 113.7, 78.0, 392.5, 166.4, 30.4, 231.0, 52.5, 95.0, 40.599999999999994, 103.5, 61.0, 142.6, 139.2, 20.2, 214.0, 197.0, 180.0, 129.0, 38.9, 282.0, 265.0, 248.0, 112.0, 146.0, 49.1, 69.5, 350.0], \"type\": \"scatter\", \"uid\": \"e1d014e2-7113-11e9-8446-99e202bd50b1\"}, {\"marker\": {\"color\": \"red\"}, \"mode\": \"lines\", \"name\": \"error for 13.0\", \"x\": [13.0, 13.0], \"y\": [26.0, 32.099999999999994], \"type\": \"scatter\", \"uid\": \"e1d015d2-7113-11e9-8446-99e202bd50b1\"}, {\"marker\": {\"color\": \"red\"}, \"mode\": \"lines\", \"name\": \"error for 46.0\", \"x\": [46.0, 46.0], \"y\": [13.0, 88.2], \"type\": \"scatter\", \"uid\": \"e1d0169a-7113-11e9-8446-99e202bd50b1\"}, {\"marker\": {\"color\": \"red\"}, \"mode\": \"lines\", \"name\": \"error for 20.0\", \"x\": [20.0, 20.0], \"y\": [53.0, 44.0], \"type\": \"scatter\", \"uid\": \"e1d01758-7113-11e9-8446-99e202bd50b1\"}, {\"marker\": {\"color\": \"red\"}, \"mode\": \"lines\", \"name\": \"error for 61.0\", \"x\": [61.0, 61.0], \"y\": [76.0, 113.7], \"type\": \"scatter\", \"uid\": \"e1d0180c-7113-11e9-8446-99e202bd50b1\"}, {\"marker\": {\"color\": \"red\"}, \"mode\": \"lines\", \"name\": \"error for 40.0\", \"x\": [40.0, 40.0], \"y\": [95.0, 78.0], \"type\": \"scatter\", \"uid\": \"e1d018ca-7113-11e9-8446-99e202bd50b1\"}, {\"marker\": {\"color\": \"red\"}, \"mode\": \"lines\", \"name\": \"error for 225.0\", \"x\": [225.0, 225.0], \"y\": [38.0, 392.5], \"type\": \"scatter\", \"uid\": \"e1d01974-7113-11e9-8446-99e202bd50b1\"}, {\"marker\": {\"color\": \"red\"}, \"mode\": \"lines\", \"name\": \"error for 92.0\", \"x\": [92.0, 92.0], \"y\": [67.0, 166.4], \"type\": \"scatter\", \"uid\": \"e1d01a28-7113-11e9-8446-99e202bd50b1\"}, {\"marker\": {\"color\": \"red\"}, \"mode\": \"lines\", \"name\": \"error for 12.0\", \"x\": [12.0, 12.0], \"y\": [15.0, 30.4], \"type\": \"scatter\", \"uid\": \"e1d01adc-7113-11e9-8446-99e202bd50b1\"}, {\"marker\": {\"color\": \"red\"}, \"mode\": \"lines\", \"name\": \"error for 130.0\", \"x\": [130.0, 130.0], \"y\": [61.0, 231.0], \"type\": \"scatter\", \"uid\": \"e1d01b86-7113-11e9-8446-99e202bd50b1\"}, {\"marker\": {\"color\": \"red\"}, \"mode\": \"lines\", \"name\": \"error for 25.0\", \"x\": [25.0, 25.0], \"y\": [37.0, 52.5], \"type\": \"scatter\", \"uid\": \"e1d01c3a-7113-11e9-8446-99e202bd50b1\"}, {\"marker\": {\"color\": \"red\"}, \"mode\": \"lines\", \"name\": \"error for 50.0\", \"x\": [50.0, 50.0], \"y\": [19.0, 95.0], \"type\": \"scatter\", \"uid\": \"e1d01ce4-7113-11e9-8446-99e202bd50b1\"}, {\"marker\": {\"color\": \"red\"}, \"mode\": \"lines\", \"name\": \"error for 18.0\", \"x\": [18.0, 18.0], \"y\": [33.0, 40.599999999999994], \"type\": \"scatter\", \"uid\": \"e1d01d8e-7113-11e9-8446-99e202bd50b1\"}, {\"marker\": {\"color\": \"red\"}, \"mode\": \"lines\", \"name\": \"error for 55.0\", \"x\": [55.0, 55.0], \"y\": [107.0, 103.5], \"type\": \"scatter\", \"uid\": \"e1d01e42-7113-11e9-8446-99e202bd50b1\"}, {\"marker\": {\"color\": \"red\"}, \"mode\": \"lines\", \"name\": \"error for 30.0\", \"x\": [30.0, 30.0], \"y\": [35.0, 61.0], \"type\": \"scatter\", \"uid\": \"e1d01eec-7113-11e9-8446-99e202bd50b1\"}, {\"marker\": {\"color\": \"red\"}, \"mode\": \"lines\", \"name\": \"error for 78.0\", \"x\": [78.0, 78.0], \"y\": [120.0, 142.6], \"type\": \"scatter\", \"uid\": \"e1d01f96-7113-11e9-8446-99e202bd50b1\"}, {\"marker\": {\"color\": \"red\"}, \"mode\": \"lines\", \"name\": \"error for 76.0\", \"x\": [76.0, 76.0], \"y\": [368.0, 139.2], \"type\": \"scatter\", \"uid\": \"e1d0204a-7113-11e9-8446-99e202bd50b1\"}, {\"marker\": {\"color\": \"red\"}, \"mode\": \"lines\", \"name\": \"error for 6.0\", \"x\": [6.0, 6.0], \"y\": [24.0, 20.2], \"type\": \"scatter\", \"uid\": \"e1d020f4-7113-11e9-8446-99e202bd50b1\"}, {\"marker\": {\"color\": \"red\"}, \"mode\": \"lines\", \"name\": \"error for 120.0\", \"x\": [120.0, 120.0], \"y\": [93.0, 214.0], \"type\": \"scatter\", \"uid\": \"e1d021b2-7113-11e9-8446-99e202bd50b1\"}, {\"marker\": {\"color\": \"red\"}, \"mode\": \"lines\", \"name\": \"error for 110.0\", \"x\": [110.0, 110.0], \"y\": [62.0, 197.0], \"type\": \"scatter\", \"uid\": \"e1d0225c-7113-11e9-8446-99e202bd50b1\"}, {\"marker\": {\"color\": \"red\"}, \"mode\": \"lines\", \"name\": \"error for 100.0\", \"x\": [100.0, 100.0], \"y\": [108.0, 180.0], \"type\": \"scatter\", \"uid\": \"e1d02306-7113-11e9-8446-99e202bd50b1\"}, {\"marker\": {\"color\": \"red\"}, \"mode\": \"lines\", \"name\": \"error for 70.0\", \"x\": [70.0, 70.0], \"y\": [25.0, 129.0], \"type\": \"scatter\", \"uid\": \"e1d023b0-7113-11e9-8446-99e202bd50b1\"}, {\"marker\": {\"color\": \"red\"}, \"mode\": \"lines\", \"name\": \"error for 17.0\", \"x\": [17.0, 17.0], \"y\": [54.0, 38.9], \"type\": \"scatter\", \"uid\": \"e1d0245a-7113-11e9-8446-99e202bd50b1\"}, {\"marker\": {\"color\": \"red\"}, \"mode\": \"lines\", \"name\": \"error for 160.0\", \"x\": [160.0, 160.0], \"y\": [239.0, 282.0], \"type\": \"scatter\", \"uid\": \"e1d02504-7113-11e9-8446-99e202bd50b1\"}, {\"marker\": {\"color\": \"red\"}, \"mode\": \"lines\", \"name\": \"error for 150.0\", \"x\": [150.0, 150.0], \"y\": [393.0, 265.0], \"type\": \"scatter\", \"uid\": \"e1d025ae-7113-11e9-8446-99e202bd50b1\"}, {\"marker\": {\"color\": \"red\"}, \"mode\": \"lines\", \"name\": \"error for 140.0\", \"x\": [140.0, 140.0], \"y\": [123.0, 248.0], \"type\": \"scatter\", \"uid\": \"e1d02658-7113-11e9-8446-99e202bd50b1\"}, {\"marker\": {\"color\": \"red\"}, \"mode\": \"lines\", \"name\": \"error for 60.0\", \"x\": [60.0, 60.0], \"y\": [46.0, 112.0], \"type\": \"scatter\", \"uid\": \"e1d02702-7113-11e9-8446-99e202bd50b1\"}, {\"marker\": {\"color\": \"red\"}, \"mode\": \"lines\", \"name\": \"error for 80.0\", \"x\": [80.0, 80.0], \"y\": [134.0, 146.0], \"type\": \"scatter\", \"uid\": \"e1d027b6-7113-11e9-8446-99e202bd50b1\"}, {\"marker\": {\"color\": \"red\"}, \"mode\": \"lines\", \"name\": \"error for 23.0\", \"x\": [23.0, 23.0], \"y\": [25.0, 49.1], \"type\": \"scatter\", \"uid\": \"e1d02856-7113-11e9-8446-99e202bd50b1\"}, {\"marker\": {\"color\": \"red\"}, \"mode\": \"lines\", \"name\": \"error for 35.0\", \"x\": [35.0, 35.0], \"y\": [135.0, 69.5], \"type\": \"scatter\", \"uid\": \"e1d0290a-7113-11e9-8446-99e202bd50b1\"}, {\"marker\": {\"color\": \"red\"}, \"mode\": \"lines\", \"name\": \"error for 200.0\", \"x\": [200.0, 200.0], \"y\": [409.0, 350.0], \"type\": \"scatter\", \"uid\": \"e1d029dc-7113-11e9-8446-99e202bd50b1\"}], {}, {\"showLink\": true, \"linkText\": \"Export to plot.ly\"})});</script>"
      ]
     },
     "metadata": {},
     "output_type": "display_data"
    }
   ],
   "source": [
    "from plotly.offline import iplot, init_notebook_mode\n",
    "init_notebook_mode(connected=True)\n",
    "\n",
    "from graph import trace_values, m_b_trace, plot\n",
    "\n",
    "if x_values and y_values:\n",
    "    movies_trace = trace_values(x_values, y_values, text=titles, name='movie data')\n",
    "    regression_trace = m_b_trace(1.7, 10, x_values, name='estimated revenue')\n",
    "    plot([movies_trace, regression_trace, *errors_for_regression])"
   ]
  },
  {
   "cell_type": "markdown",
   "metadata": {},
   "source": [
    "> Don't worry about some of the points that don't have associated error lines.  It is a complication with Plotly and not our functions."
   ]
  },
  {
   "cell_type": "markdown",
   "metadata": {},
   "source": [
    "### Calculating RSS"
   ]
  },
  {
   "cell_type": "markdown",
   "metadata": {},
   "source": [
    "Now write a function called `squared_error`, that given a value of x, returns the squared error at that x value.\n",
    "\n",
    "${\\varepsilon_i}^2 =  (y_i - \\hat{y}_i)^2$"
   ]
  },
  {
   "cell_type": "code",
   "execution_count": 44,
   "metadata": {},
   "outputs": [],
   "source": [
    "def squared_error(x_values, y_values, m, b, x):\n",
    "    return error(x_values, y_values, m, b, x)**2"
   ]
  },
  {
   "cell_type": "code",
   "execution_count": 45,
   "metadata": {},
   "outputs": [
    {
     "data": {
      "text/plain": [
       "37.20999999999993"
      ]
     },
     "execution_count": 45,
     "metadata": {},
     "output_type": "execute_result"
    }
   ],
   "source": [
    "x_values and y_values and squared_error(x_values, y_values, 1.7, 10, x_values[0]) # 37.20999999999993"
   ]
  },
  {
   "cell_type": "markdown",
   "metadata": {},
   "source": [
    "Now write a function that will iterate through the x and y values to create a list of squared errors at each point, $(x_i, y_i)$ of the dataset."
   ]
  },
  {
   "cell_type": "code",
   "execution_count": 46,
   "metadata": {},
   "outputs": [],
   "source": [
    "def squared_errors(x_values, y_values, m, b):\n",
    "    return list(map(lambda x : squared_error(x_values, y_values, m, b, x) , x_values))"
   ]
  },
  {
   "cell_type": "code",
   "execution_count": 47,
   "metadata": {
    "scrolled": true
   },
   "outputs": [
    {
     "data": {
      "text/plain": [
       "[37.20999999999993,\n",
       " 5655.040000000001,\n",
       " 81.0,\n",
       " 1421.2900000000002,\n",
       " 289.0,\n",
       " 125670.25,\n",
       " 9880.36,\n",
       " 237.15999999999997,\n",
       " 28900.0,\n",
       " 240.25,\n",
       " 5776.0,\n",
       " 57.75999999999991,\n",
       " 12.25,\n",
       " 676.0,\n",
       " 510.75999999999976,\n",
       " 52349.44,\n",
       " 14.440000000000005,\n",
       " 14641.0,\n",
       " 18225.0,\n",
       " 5184.0,\n",
       " 10816.0,\n",
       " 228.01000000000005,\n",
       " 1849.0,\n",
       " 16384.0,\n",
       " 15625.0,\n",
       " 4356.0,\n",
       " 144.0,\n",
       " 580.8100000000001,\n",
       " 4290.25,\n",
       " 3481.0]"
      ]
     },
     "execution_count": 47,
     "metadata": {},
     "output_type": "execute_result"
    }
   ],
   "source": [
    "x_values and y_values and squared_errors(x_values, y_values, 1.7, 10)"
   ]
  },
  {
   "cell_type": "markdown",
   "metadata": {},
   "source": [
    "Next, write a function called `residual_sum_squares` that, provided a list of x_values, y_values, and the m and b values of a regression line, returns the sum of the squared error for the movies in our dataset."
   ]
  },
  {
   "cell_type": "code",
   "execution_count": 48,
   "metadata": {},
   "outputs": [],
   "source": [
    "def residual_sum_squares(x_values, y_values, m, b):\n",
    "    return sum(squared_errors(x_values, y_values, m, b))"
   ]
  },
  {
   "cell_type": "code",
   "execution_count": 49,
   "metadata": {},
   "outputs": [
    {
     "data": {
      "text/plain": [
       "327612.2800000001"
      ]
     },
     "execution_count": 49,
     "metadata": {},
     "output_type": "execute_result"
    }
   ],
   "source": [
    "residual_sum_squares(x_values, y_values, 1.7, 10) # 327612.2800000001"
   ]
  },
  {
   "cell_type": "markdown",
   "metadata": {},
   "source": [
    "Finally, write a function called `root_mean_squared_error` that calculates the RMSE for the movies in the dataset, provided the same parameters as RSS.  Remember that `root_mean_squared_error` is a way for us to measure the approximate error per data point."
   ]
  },
  {
   "cell_type": "code",
   "execution_count": 50,
   "metadata": {},
   "outputs": [],
   "source": [
    "import math\n",
    "def root_mean_squared_error(x_values, y_values, m, b):\n",
    "    return (math.sqrt(residual_sum_squares(x_values, y_values, m, b)))/len(x_values)"
   ]
  },
  {
   "cell_type": "code",
   "execution_count": 51,
   "metadata": {},
   "outputs": [
    {
     "data": {
      "text/plain": [
       "19.07914160659343"
      ]
     },
     "execution_count": 51,
     "metadata": {},
     "output_type": "execute_result"
    }
   ],
   "source": [
    "root_mean_squared_error(x_values, y_values, 1.7, 10) # 19.07914160659343"
   ]
  },
  {
   "cell_type": "markdown",
   "metadata": {},
   "source": [
    "#### Some functions for your understanding"
   ]
  },
  {
   "cell_type": "markdown",
   "metadata": {},
   "source": [
    "Now we'll provide a couple functions for you.  Note that we can represent multiple regression lines by a list of m and b values:"
   ]
  },
  {
   "cell_type": "code",
   "execution_count": 52,
   "metadata": {},
   "outputs": [],
   "source": [
    "regression_lines = [(1.7, 10), (1.9, 20)]"
   ]
  },
  {
   "cell_type": "markdown",
   "metadata": {},
   "source": [
    "Then we can return a list of the regression lines along with the associated RMSE."
   ]
  },
  {
   "cell_type": "code",
   "execution_count": 53,
   "metadata": {},
   "outputs": [],
   "source": [
    "def root_mean_squared_errors(x_values, y_values, regression_lines):\n",
    "    errors = []\n",
    "    for regression_line in regression_lines:\n",
    "        error = root_mean_squared_error(x_values, y_values, regression_line[0], regression_line[1])\n",
    "        errors.append([regression_line[0], regression_line[1], round(error, 0)])\n",
    "    return errors"
   ]
  },
  {
   "cell_type": "markdown",
   "metadata": {},
   "source": [
    "Now let's generate the RMSE values for each of these lines."
   ]
  },
  {
   "cell_type": "code",
   "execution_count": 54,
   "metadata": {},
   "outputs": [
    {
     "data": {
      "text/plain": [
       "[[1.7, 10, 19.0], [1.9, 20, 22.0]]"
      ]
     },
     "execution_count": 54,
     "metadata": {},
     "output_type": "execute_result"
    }
   ],
   "source": [
    "x_values and y_values and root_mean_squared_errors(x_values, y_values, regression_lines)"
   ]
  },
  {
   "cell_type": "markdown",
   "metadata": {},
   "source": [
    "Now we'll provide a couple functions for you:\n",
    "* a function called `trace_rmse`, that builds a bar chart displaying the value of the RMSE.  The return value is a dictionary with keys of `x` and `y`, both which point to lists.  The $x$ key points to a list with one element, a string containing each regression line's m and b value.  The $y$ key points to a list of the RMSE values for each corresponding regression line."
   ]
  },
  {
   "cell_type": "code",
   "execution_count": 55,
   "metadata": {},
   "outputs": [
    {
     "data": {
      "text/plain": [
       "{'x': ['m: 1.7 b: 10', 'm: 1.9 b: 20'], 'y': [19.0, 22.0], 'type': 'bar'}"
      ]
     },
     "execution_count": 55,
     "metadata": {},
     "output_type": "execute_result"
    }
   ],
   "source": [
    "import plotly.graph_objs as go\n",
    "\n",
    "def trace_rmse(x_values, y_values, regression_lines):\n",
    "    errors = root_mean_squared_errors(x_values, y_values, regression_lines)\n",
    "    x_values_bar = list(map(lambda error: 'm: ' + str(error[0]) + ' b: ' + str(error[1]), errors))\n",
    "    y_values_bar = list(map(lambda error: error[-1], errors))\n",
    "    return dict(\n",
    "        x=x_values_bar,\n",
    "        y=y_values_bar,\n",
    "        type='bar'\n",
    "    )\n",
    "\n",
    "\n",
    "x_values and y_values and trace_rmse(x_values, y_values, regression_lines)"
   ]
  },
  {
   "cell_type": "markdown",
   "metadata": {},
   "source": [
    "Once this is built, we can create a subplot showing the two regression lines, as well as the related RMSE for each line."
   ]
  },
  {
   "cell_type": "code",
   "execution_count": 56,
   "metadata": {},
   "outputs": [],
   "source": [
    "import plotly\n",
    "from plotly.offline import iplot\n",
    "from plotly import tools\n",
    "import plotly.graph_objs as go\n",
    "\n",
    "def regression_and_rss(scatter_trace, regression_traces, rss_calc_trace):\n",
    "    fig = tools.make_subplots(rows=1, cols=2)\n",
    "    for reg_trace in regression_traces:\n",
    "        fig.append_trace(reg_trace, 1, 1)\n",
    "    fig.append_trace(scatter_trace, 1, 1)\n",
    "    fig.append_trace(rss_calc_trace, 1, 2)\n",
    "    iplot(fig)"
   ]
  },
  {
   "cell_type": "code",
   "execution_count": 59,
   "metadata": {},
   "outputs": [
    {
     "name": "stdout",
     "output_type": "stream",
     "text": [
      "This is the format of your plot grid:\n",
      "[ (1,1) x1,y1 ]  [ (1,2) x2,y2 ]\n",
      "\n"
     ]
    },
    {
     "data": {
      "application/vnd.plotly.v1+json": {
       "data": [
        {
         "mode": "lines",
         "name": "m:1.7b: 10",
         "type": "scatter",
         "uid": "36a7ff88-7115-11e9-8446-99e202bd50b1",
         "x": [
          13,
          46,
          20,
          61,
          40,
          225,
          92,
          12,
          130,
          25,
          50,
          18,
          55,
          30,
          78,
          76,
          6,
          120,
          110,
          100,
          70,
          17,
          160,
          150,
          140,
          60,
          80,
          23,
          35,
          200
         ],
         "xaxis": "x",
         "y": [
          32.099999999999994,
          88.2,
          44,
          113.7,
          78,
          392.5,
          166.4,
          30.4,
          231,
          52.5,
          95,
          40.599999999999994,
          103.5,
          61,
          142.6,
          139.2,
          20.2,
          214,
          197,
          180,
          129,
          38.9,
          282,
          265,
          248,
          112,
          146,
          49.1,
          69.5,
          350
         ],
         "yaxis": "y"
        },
        {
         "mode": "lines",
         "name": "m:1b: 50",
         "type": "scatter",
         "uid": "36a8b536-7115-11e9-8446-99e202bd50b1",
         "x": [
          13,
          46,
          20,
          61,
          40,
          225,
          92,
          12,
          130,
          25,
          50,
          18,
          55,
          30,
          78,
          76,
          6,
          120,
          110,
          100,
          70,
          17,
          160,
          150,
          140,
          60,
          80,
          23,
          35,
          200
         ],
         "xaxis": "x",
         "y": [
          63,
          96,
          70,
          111,
          90,
          275,
          142,
          62,
          180,
          75,
          100,
          68,
          105,
          80,
          128,
          126,
          56,
          170,
          160,
          150,
          120,
          67,
          210,
          200,
          190,
          110,
          130,
          73,
          85,
          250
         ],
         "yaxis": "y"
        },
        {
         "mode": "lines",
         "name": "m:0.75b: 40",
         "type": "scatter",
         "uid": "36a961f2-7115-11e9-8446-99e202bd50b1",
         "x": [
          13,
          46,
          20,
          61,
          40,
          225,
          92,
          12,
          130,
          25,
          50,
          18,
          55,
          30,
          78,
          76,
          6,
          120,
          110,
          100,
          70,
          17,
          160,
          150,
          140,
          60,
          80,
          23,
          35,
          200
         ],
         "xaxis": "x",
         "y": [
          49.75,
          74.5,
          55,
          85.75,
          70,
          208.75,
          109,
          49,
          137.5,
          58.75,
          77.5,
          53.5,
          81.25,
          62.5,
          98.5,
          97,
          44.5,
          130,
          122.5,
          115,
          92.5,
          52.75,
          160,
          152.5,
          145,
          85,
          100,
          57.25,
          66.25,
          190
         ],
         "yaxis": "y"
        },
        {
         "mode": "lines",
         "name": "m:0.6b: 30",
         "type": "scatter",
         "uid": "36aa1034-7115-11e9-8446-99e202bd50b1",
         "x": [
          13,
          46,
          20,
          61,
          40,
          225,
          92,
          12,
          130,
          25,
          50,
          18,
          55,
          30,
          78,
          76,
          6,
          120,
          110,
          100,
          70,
          17,
          160,
          150,
          140,
          60,
          80,
          23,
          35,
          200
         ],
         "xaxis": "x",
         "y": [
          37.8,
          57.599999999999994,
          42,
          66.6,
          54,
          165,
          85.19999999999999,
          37.2,
          108,
          45,
          60,
          40.8,
          63,
          48,
          76.8,
          75.6,
          33.6,
          102,
          96,
          90,
          72,
          40.2,
          126,
          120,
          114,
          66,
          78,
          43.8,
          51,
          150
         ],
         "yaxis": "y"
        },
        {
         "mode": "lines",
         "name": "m:0.8b: 40",
         "type": "scatter",
         "uid": "36aabf0c-7115-11e9-8446-99e202bd50b1",
         "x": [
          13,
          46,
          20,
          61,
          40,
          225,
          92,
          12,
          130,
          25,
          50,
          18,
          55,
          30,
          78,
          76,
          6,
          120,
          110,
          100,
          70,
          17,
          160,
          150,
          140,
          60,
          80,
          23,
          35,
          200
         ],
         "xaxis": "x",
         "y": [
          50.4,
          76.80000000000001,
          56,
          88.80000000000001,
          72,
          220,
          113.60000000000001,
          49.6,
          144,
          60,
          80,
          54.4,
          84,
          64,
          102.4,
          100.80000000000001,
          44.8,
          136,
          128,
          120,
          96,
          53.6,
          168,
          160,
          152,
          88,
          104,
          58.400000000000006,
          68,
          200
         ],
         "yaxis": "y"
        },
        {
         "mode": "markers",
         "name": "movie data",
         "text": [
          "21 &amp; Over",
          "Dredd 3D",
          "12 Years a Slave",
          "2 Guns",
          "42",
          "47 Ronin",
          "A Good Day to Die Hard",
          "About Time",
          "After Earth",
          "August: Osage County",
          "Beautiful Creatures",
          "Blue Jasmine",
          "Captain Phillips",
          "Carrie",
          "Cloudy with a Chance of Meatballs 2",
          "Despicable Me 2",
          "Don Jon",
          "Elysium",
          "Ender&#39;s Game",
          "Epic",
          "Escape Plan",
          "Evil Dead",
          "Fast and Furious 6",
          "Frozen",
          "G.I. Joe: Retaliation",
          "Gangster Squad",
          "Grown Ups",
          "Her",
          "Identity Thief",
          "Iron Man 3"
         ],
         "type": "scatter",
         "uid": "36ab6ee8-7115-11e9-8446-99e202bd50b1",
         "x": [
          13,
          46,
          20,
          61,
          40,
          225,
          92,
          12,
          130,
          25,
          50,
          18,
          55,
          30,
          78,
          76,
          6,
          120,
          110,
          100,
          70,
          17,
          160,
          150,
          140,
          60,
          80,
          23,
          35,
          200
         ],
         "xaxis": "x",
         "y": [
          26,
          13,
          53,
          76,
          95,
          38,
          67,
          15,
          61,
          37,
          19,
          33,
          107,
          35,
          120,
          368,
          24,
          93,
          62,
          108,
          25,
          54,
          239,
          393,
          123,
          46,
          134,
          25,
          135,
          409
         ],
         "yaxis": "y"
        },
        {
         "type": "bar",
         "uid": "36ac2752-7115-11e9-8446-99e202bd50b1",
         "x": [
          "m: 1.7 b: 10",
          "m: 1 b: 50",
          "m: 0.75 b: 40",
          "m: 0.6 b: 30",
          "m: 0.8 b: 40"
         ],
         "xaxis": "x2",
         "y": [
          19,
          17,
          17,
          18,
          17
         ],
         "yaxis": "y2"
        }
       ],
       "layout": {
        "xaxis": {
         "anchor": "y",
         "domain": [
          0,
          0.45
         ]
        },
        "xaxis2": {
         "anchor": "y2",
         "domain": [
          0.55,
          1
         ]
        },
        "yaxis": {
         "anchor": "x",
         "domain": [
          0,
          1
         ]
        },
        "yaxis2": {
         "anchor": "x2",
         "domain": [
          0,
          1
         ]
        }
       }
      },
      "text/html": [
       "<div id=\"a983ea35-cd5b-447b-9678-cd33a649de79\" style=\"height: 525px; width: 100%;\" class=\"plotly-graph-div\"></div><script type=\"text/javascript\">require([\"plotly\"], function(Plotly) { window.PLOTLYENV=window.PLOTLYENV || {};window.PLOTLYENV.BASE_URL=\"https://plot.ly\";\n",
       "        Plotly.plot(\n",
       "            'a983ea35-cd5b-447b-9678-cd33a649de79',\n",
       "            [{\"mode\": \"lines\", \"name\": \"m:1.7b: 10\", \"x\": [13.0, 46.0, 20.0, 61.0, 40.0, 225.0, 92.0, 12.0, 130.0, 25.0, 50.0, 18.0, 55.0, 30.0, 78.0, 76.0, 6.0, 120.0, 110.0, 100.0, 70.0, 17.0, 160.0, 150.0, 140.0, 60.0, 80.0, 23.0, 35.0, 200.0], \"y\": [32.099999999999994, 88.2, 44.0, 113.7, 78.0, 392.5, 166.4, 30.4, 231.0, 52.5, 95.0, 40.599999999999994, 103.5, 61.0, 142.6, 139.2, 20.2, 214.0, 197.0, 180.0, 129.0, 38.9, 282.0, 265.0, 248.0, 112.0, 146.0, 49.1, 69.5, 350.0], \"type\": \"scatter\", \"uid\": \"36a7ff88-7115-11e9-8446-99e202bd50b1\", \"xaxis\": \"x\", \"yaxis\": \"y\"}, {\"mode\": \"lines\", \"name\": \"m:1b: 50\", \"x\": [13.0, 46.0, 20.0, 61.0, 40.0, 225.0, 92.0, 12.0, 130.0, 25.0, 50.0, 18.0, 55.0, 30.0, 78.0, 76.0, 6.0, 120.0, 110.0, 100.0, 70.0, 17.0, 160.0, 150.0, 140.0, 60.0, 80.0, 23.0, 35.0, 200.0], \"y\": [63.0, 96.0, 70.0, 111.0, 90.0, 275.0, 142.0, 62.0, 180.0, 75.0, 100.0, 68.0, 105.0, 80.0, 128.0, 126.0, 56.0, 170.0, 160.0, 150.0, 120.0, 67.0, 210.0, 200.0, 190.0, 110.0, 130.0, 73.0, 85.0, 250.0], \"type\": \"scatter\", \"uid\": \"36a8b536-7115-11e9-8446-99e202bd50b1\", \"xaxis\": \"x\", \"yaxis\": \"y\"}, {\"mode\": \"lines\", \"name\": \"m:0.75b: 40\", \"x\": [13.0, 46.0, 20.0, 61.0, 40.0, 225.0, 92.0, 12.0, 130.0, 25.0, 50.0, 18.0, 55.0, 30.0, 78.0, 76.0, 6.0, 120.0, 110.0, 100.0, 70.0, 17.0, 160.0, 150.0, 140.0, 60.0, 80.0, 23.0, 35.0, 200.0], \"y\": [49.75, 74.5, 55.0, 85.75, 70.0, 208.75, 109.0, 49.0, 137.5, 58.75, 77.5, 53.5, 81.25, 62.5, 98.5, 97.0, 44.5, 130.0, 122.5, 115.0, 92.5, 52.75, 160.0, 152.5, 145.0, 85.0, 100.0, 57.25, 66.25, 190.0], \"type\": \"scatter\", \"uid\": \"36a961f2-7115-11e9-8446-99e202bd50b1\", \"xaxis\": \"x\", \"yaxis\": \"y\"}, {\"mode\": \"lines\", \"name\": \"m:0.6b: 30\", \"x\": [13.0, 46.0, 20.0, 61.0, 40.0, 225.0, 92.0, 12.0, 130.0, 25.0, 50.0, 18.0, 55.0, 30.0, 78.0, 76.0, 6.0, 120.0, 110.0, 100.0, 70.0, 17.0, 160.0, 150.0, 140.0, 60.0, 80.0, 23.0, 35.0, 200.0], \"y\": [37.8, 57.599999999999994, 42.0, 66.6, 54.0, 165.0, 85.19999999999999, 37.2, 108.0, 45.0, 60.0, 40.8, 63.0, 48.0, 76.8, 75.6, 33.6, 102.0, 96.0, 90.0, 72.0, 40.2, 126.0, 120.0, 114.0, 66.0, 78.0, 43.8, 51.0, 150.0], \"type\": \"scatter\", \"uid\": \"36aa1034-7115-11e9-8446-99e202bd50b1\", \"xaxis\": \"x\", \"yaxis\": \"y\"}, {\"mode\": \"lines\", \"name\": \"m:0.8b: 40\", \"x\": [13.0, 46.0, 20.0, 61.0, 40.0, 225.0, 92.0, 12.0, 130.0, 25.0, 50.0, 18.0, 55.0, 30.0, 78.0, 76.0, 6.0, 120.0, 110.0, 100.0, 70.0, 17.0, 160.0, 150.0, 140.0, 60.0, 80.0, 23.0, 35.0, 200.0], \"y\": [50.4, 76.80000000000001, 56.0, 88.80000000000001, 72.0, 220.0, 113.60000000000001, 49.6, 144.0, 60.0, 80.0, 54.4, 84.0, 64.0, 102.4, 100.80000000000001, 44.8, 136.0, 128.0, 120.0, 96.0, 53.6, 168.0, 160.0, 152.0, 88.0, 104.0, 58.400000000000006, 68.0, 200.0], \"type\": \"scatter\", \"uid\": \"36aabf0c-7115-11e9-8446-99e202bd50b1\", \"xaxis\": \"x\", \"yaxis\": \"y\"}, {\"mode\": \"markers\", \"name\": \"movie data\", \"text\": [\"21 &amp; Over\", \"Dredd 3D\", \"12 Years a Slave\", \"2 Guns\", \"42\", \"47 Ronin\", \"A Good Day to Die Hard\", \"About Time\", \"After Earth\", \"August: Osage County\", \"Beautiful Creatures\", \"Blue Jasmine\", \"Captain Phillips\", \"Carrie\", \"Cloudy with a Chance of Meatballs 2\", \"Despicable Me 2\", \"Don Jon\", \"Elysium\", \"Ender&#39;s Game\", \"Epic\", \"Escape Plan\", \"Evil Dead\", \"Fast and Furious 6\", \"Frozen\", \"G.I. Joe: Retaliation\", \"Gangster Squad\", \"Grown Ups\", \"Her\", \"Identity Thief\", \"Iron Man 3\"], \"x\": [13.0, 46.0, 20.0, 61.0, 40.0, 225.0, 92.0, 12.0, 130.0, 25.0, 50.0, 18.0, 55.0, 30.0, 78.0, 76.0, 6.0, 120.0, 110.0, 100.0, 70.0, 17.0, 160.0, 150.0, 140.0, 60.0, 80.0, 23.0, 35.0, 200.0], \"y\": [26.0, 13.0, 53.0, 76.0, 95.0, 38.0, 67.0, 15.0, 61.0, 37.0, 19.0, 33.0, 107.0, 35.0, 120.0, 368.0, 24.0, 93.0, 62.0, 108.0, 25.0, 54.0, 239.0, 393.0, 123.0, 46.0, 134.0, 25.0, 135.0, 409.0], \"type\": \"scatter\", \"uid\": \"36ab6ee8-7115-11e9-8446-99e202bd50b1\", \"xaxis\": \"x\", \"yaxis\": \"y\"}, {\"x\": [\"m: 1.7 b: 10\", \"m: 1 b: 50\", \"m: 0.75 b: 40\", \"m: 0.6 b: 30\", \"m: 0.8 b: 40\"], \"y\": [19.0, 17.0, 17.0, 18.0, 17.0], \"type\": \"bar\", \"uid\": \"36ac2752-7115-11e9-8446-99e202bd50b1\", \"xaxis\": \"x2\", \"yaxis\": \"y2\"}],\n",
       "            {\"xaxis\": {\"anchor\": \"y\", \"domain\": [0.0, 0.45]}, \"yaxis\": {\"anchor\": \"x\", \"domain\": [0.0, 1.0]}, \"xaxis2\": {\"anchor\": \"y2\", \"domain\": [0.55, 1.0]}, \"yaxis2\": {\"anchor\": \"x2\", \"domain\": [0.0, 1.0]}},\n",
       "            {\"showLink\": true, \"linkText\": \"Export to plot.ly\"}\n",
       "        ).then(function () {return Plotly.addFrames('a983ea35-cd5b-447b-9678-cd33a649de79',{});}).then(function(){Plotly.animate('a983ea35-cd5b-447b-9678-cd33a649de79');})\n",
       "        });</script>"
      ],
      "text/vnd.plotly.v1+html": [
       "<div id=\"a983ea35-cd5b-447b-9678-cd33a649de79\" style=\"height: 525px; width: 100%;\" class=\"plotly-graph-div\"></div><script type=\"text/javascript\">require([\"plotly\"], function(Plotly) { window.PLOTLYENV=window.PLOTLYENV || {};window.PLOTLYENV.BASE_URL=\"https://plot.ly\";\n",
       "        Plotly.plot(\n",
       "            'a983ea35-cd5b-447b-9678-cd33a649de79',\n",
       "            [{\"mode\": \"lines\", \"name\": \"m:1.7b: 10\", \"x\": [13.0, 46.0, 20.0, 61.0, 40.0, 225.0, 92.0, 12.0, 130.0, 25.0, 50.0, 18.0, 55.0, 30.0, 78.0, 76.0, 6.0, 120.0, 110.0, 100.0, 70.0, 17.0, 160.0, 150.0, 140.0, 60.0, 80.0, 23.0, 35.0, 200.0], \"y\": [32.099999999999994, 88.2, 44.0, 113.7, 78.0, 392.5, 166.4, 30.4, 231.0, 52.5, 95.0, 40.599999999999994, 103.5, 61.0, 142.6, 139.2, 20.2, 214.0, 197.0, 180.0, 129.0, 38.9, 282.0, 265.0, 248.0, 112.0, 146.0, 49.1, 69.5, 350.0], \"type\": \"scatter\", \"uid\": \"36a7ff88-7115-11e9-8446-99e202bd50b1\", \"xaxis\": \"x\", \"yaxis\": \"y\"}, {\"mode\": \"lines\", \"name\": \"m:1b: 50\", \"x\": [13.0, 46.0, 20.0, 61.0, 40.0, 225.0, 92.0, 12.0, 130.0, 25.0, 50.0, 18.0, 55.0, 30.0, 78.0, 76.0, 6.0, 120.0, 110.0, 100.0, 70.0, 17.0, 160.0, 150.0, 140.0, 60.0, 80.0, 23.0, 35.0, 200.0], \"y\": [63.0, 96.0, 70.0, 111.0, 90.0, 275.0, 142.0, 62.0, 180.0, 75.0, 100.0, 68.0, 105.0, 80.0, 128.0, 126.0, 56.0, 170.0, 160.0, 150.0, 120.0, 67.0, 210.0, 200.0, 190.0, 110.0, 130.0, 73.0, 85.0, 250.0], \"type\": \"scatter\", \"uid\": \"36a8b536-7115-11e9-8446-99e202bd50b1\", \"xaxis\": \"x\", \"yaxis\": \"y\"}, {\"mode\": \"lines\", \"name\": \"m:0.75b: 40\", \"x\": [13.0, 46.0, 20.0, 61.0, 40.0, 225.0, 92.0, 12.0, 130.0, 25.0, 50.0, 18.0, 55.0, 30.0, 78.0, 76.0, 6.0, 120.0, 110.0, 100.0, 70.0, 17.0, 160.0, 150.0, 140.0, 60.0, 80.0, 23.0, 35.0, 200.0], \"y\": [49.75, 74.5, 55.0, 85.75, 70.0, 208.75, 109.0, 49.0, 137.5, 58.75, 77.5, 53.5, 81.25, 62.5, 98.5, 97.0, 44.5, 130.0, 122.5, 115.0, 92.5, 52.75, 160.0, 152.5, 145.0, 85.0, 100.0, 57.25, 66.25, 190.0], \"type\": \"scatter\", \"uid\": \"36a961f2-7115-11e9-8446-99e202bd50b1\", \"xaxis\": \"x\", \"yaxis\": \"y\"}, {\"mode\": \"lines\", \"name\": \"m:0.6b: 30\", \"x\": [13.0, 46.0, 20.0, 61.0, 40.0, 225.0, 92.0, 12.0, 130.0, 25.0, 50.0, 18.0, 55.0, 30.0, 78.0, 76.0, 6.0, 120.0, 110.0, 100.0, 70.0, 17.0, 160.0, 150.0, 140.0, 60.0, 80.0, 23.0, 35.0, 200.0], \"y\": [37.8, 57.599999999999994, 42.0, 66.6, 54.0, 165.0, 85.19999999999999, 37.2, 108.0, 45.0, 60.0, 40.8, 63.0, 48.0, 76.8, 75.6, 33.6, 102.0, 96.0, 90.0, 72.0, 40.2, 126.0, 120.0, 114.0, 66.0, 78.0, 43.8, 51.0, 150.0], \"type\": \"scatter\", \"uid\": \"36aa1034-7115-11e9-8446-99e202bd50b1\", \"xaxis\": \"x\", \"yaxis\": \"y\"}, {\"mode\": \"lines\", \"name\": \"m:0.8b: 40\", \"x\": [13.0, 46.0, 20.0, 61.0, 40.0, 225.0, 92.0, 12.0, 130.0, 25.0, 50.0, 18.0, 55.0, 30.0, 78.0, 76.0, 6.0, 120.0, 110.0, 100.0, 70.0, 17.0, 160.0, 150.0, 140.0, 60.0, 80.0, 23.0, 35.0, 200.0], \"y\": [50.4, 76.80000000000001, 56.0, 88.80000000000001, 72.0, 220.0, 113.60000000000001, 49.6, 144.0, 60.0, 80.0, 54.4, 84.0, 64.0, 102.4, 100.80000000000001, 44.8, 136.0, 128.0, 120.0, 96.0, 53.6, 168.0, 160.0, 152.0, 88.0, 104.0, 58.400000000000006, 68.0, 200.0], \"type\": \"scatter\", \"uid\": \"36aabf0c-7115-11e9-8446-99e202bd50b1\", \"xaxis\": \"x\", \"yaxis\": \"y\"}, {\"mode\": \"markers\", \"name\": \"movie data\", \"text\": [\"21 &amp; Over\", \"Dredd 3D\", \"12 Years a Slave\", \"2 Guns\", \"42\", \"47 Ronin\", \"A Good Day to Die Hard\", \"About Time\", \"After Earth\", \"August: Osage County\", \"Beautiful Creatures\", \"Blue Jasmine\", \"Captain Phillips\", \"Carrie\", \"Cloudy with a Chance of Meatballs 2\", \"Despicable Me 2\", \"Don Jon\", \"Elysium\", \"Ender&#39;s Game\", \"Epic\", \"Escape Plan\", \"Evil Dead\", \"Fast and Furious 6\", \"Frozen\", \"G.I. Joe: Retaliation\", \"Gangster Squad\", \"Grown Ups\", \"Her\", \"Identity Thief\", \"Iron Man 3\"], \"x\": [13.0, 46.0, 20.0, 61.0, 40.0, 225.0, 92.0, 12.0, 130.0, 25.0, 50.0, 18.0, 55.0, 30.0, 78.0, 76.0, 6.0, 120.0, 110.0, 100.0, 70.0, 17.0, 160.0, 150.0, 140.0, 60.0, 80.0, 23.0, 35.0, 200.0], \"y\": [26.0, 13.0, 53.0, 76.0, 95.0, 38.0, 67.0, 15.0, 61.0, 37.0, 19.0, 33.0, 107.0, 35.0, 120.0, 368.0, 24.0, 93.0, 62.0, 108.0, 25.0, 54.0, 239.0, 393.0, 123.0, 46.0, 134.0, 25.0, 135.0, 409.0], \"type\": \"scatter\", \"uid\": \"36ab6ee8-7115-11e9-8446-99e202bd50b1\", \"xaxis\": \"x\", \"yaxis\": \"y\"}, {\"x\": [\"m: 1.7 b: 10\", \"m: 1 b: 50\", \"m: 0.75 b: 40\", \"m: 0.6 b: 30\", \"m: 0.8 b: 40\"], \"y\": [19.0, 17.0, 17.0, 18.0, 17.0], \"type\": \"bar\", \"uid\": \"36ac2752-7115-11e9-8446-99e202bd50b1\", \"xaxis\": \"x2\", \"yaxis\": \"y2\"}],\n",
       "            {\"xaxis\": {\"anchor\": \"y\", \"domain\": [0.0, 0.45]}, \"yaxis\": {\"anchor\": \"x\", \"domain\": [0.0, 1.0]}, \"xaxis2\": {\"anchor\": \"y2\", \"domain\": [0.55, 1.0]}, \"yaxis2\": {\"anchor\": \"x2\", \"domain\": [0.0, 1.0]}},\n",
       "            {\"showLink\": true, \"linkText\": \"Export to plot.ly\"}\n",
       "        ).then(function () {return Plotly.addFrames('a983ea35-cd5b-447b-9678-cd33a649de79',{});}).then(function(){Plotly.animate('a983ea35-cd5b-447b-9678-cd33a649de79');})\n",
       "        });</script>"
      ]
     },
     "metadata": {},
     "output_type": "display_data"
    }
   ],
   "source": [
    "### add more regression lines here, by adding new elements to the list\n",
    "regression_lines = [(1.7, 10), (1, 50),(.75,40),(.6,30),(.8,40)]\n",
    "\n",
    "if x_values and y_values:\n",
    "    regression_traces = list(map(lambda line: m_b_trace(line[0], line[1], x_values, name='m:' + str(line[0]) + 'b: ' + str(line[1])), regression_lines))\n",
    "\n",
    "    scatter_trace = trace_values(x_values, y_values, text=titles, name='movie data')\n",
    "    rmse_calc_trace = trace_rmse(x_values, y_values, regression_lines)\n",
    "\n",
    "    regression_and_rss(scatter_trace, regression_traces, rmse_calc_trace)"
   ]
  },
  {
   "cell_type": "markdown",
   "metadata": {},
   "source": [
    "As we can see above, the second line (m: 1.0, b: 50) has the lower RMSE. We thus can conclude that the second line \"fits\" our set of movie data better than the first line. Ultimately, our goal will be to choose the regression line with the lowest RSME or RSS. We will learn how to accomplish this goal in the following lessons and labs."
   ]
  }
 ],
 "metadata": {
  "kernelspec": {
   "display_name": "Python 3",
   "language": "python",
   "name": "python3"
  },
  "language_info": {
   "codemirror_mode": {
    "name": "ipython",
    "version": 3
   },
   "file_extension": ".py",
   "mimetype": "text/x-python",
   "name": "python",
   "nbconvert_exporter": "python",
   "pygments_lexer": "ipython3",
   "version": "3.6.6"
  }
 },
 "nbformat": 4,
 "nbformat_minor": 2
}
